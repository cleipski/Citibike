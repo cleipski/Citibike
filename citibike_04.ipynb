{
 "cells": [
  {
   "cell_type": "code",
   "execution_count": 2,
   "metadata": {
    "collapsed": true
   },
   "outputs": [],
   "source": [
    "from __future__ import absolute_import, division, print_function"
   ]
  },
  {
   "cell_type": "markdown",
   "metadata": {},
   "source": [
    "# Citi Bike Daily Ridership and Membership Data"
   ]
  },
  {
   "cell_type": "markdown",
   "metadata": {},
   "source": [
    "Date taken from: https://www.citibikenyc.com/system-data"
   ]
  },
  {
   "cell_type": "markdown",
   "metadata": {},
   "source": [
    "## Imports"
   ]
  },
  {
   "cell_type": "code",
   "execution_count": 3,
   "metadata": {
    "collapsed": true
   },
   "outputs": [],
   "source": [
    "import datetime\n",
    "import os\n",
    "import glob\n",
    "\n",
    "import numpy as np\n",
    "import pandas as pd\n",
    "\n",
    "import matplotlib as mpl\n",
    "import matplotlib.pyplot as plt\n",
    "import matplotlib.dates as mdates\n",
    "import matplotlib.lines as mlines\n",
    "\n",
    "%matplotlib inline"
   ]
  },
  {
   "cell_type": "markdown",
   "metadata": {},
   "source": [
    "## Data"
   ]
  },
  {
   "cell_type": "code",
   "execution_count": 4,
   "metadata": {
    "collapsed": true
   },
   "outputs": [],
   "source": [
    "data_dir = os.path.join(os.getcwd(),'..','..','data')"
   ]
  },
  {
   "cell_type": "code",
   "execution_count": 10,
   "metadata": {
    "collapsed": false
   },
   "outputs": [
    {
     "name": "stdout",
     "output_type": "stream",
     "text": [
      "Index([u'Date', u'Trips over the past 24-hours (midnight to 11:59pm)',\n",
      "       u'Cumulative trips (since launch):',\n",
      "       u'Miles traveled today (midnight to 11:59 pm)',\n",
      "       u'Miles traveled to date:', u'Total Annual Members',\n",
      "       u'Annual Member Sign-Ups (midnight to 11:59 pm)',\n",
      "       u'24-Hour Passes Purchased (midnight to 11:59 pm)\\t7-Day Passes Purchased (midnight to 11:59 pm)'],\n",
      "      dtype='object')\n",
      "Index([u'Date', u'Trips over the past 24-hours (midnight to 11:59pm)',\n",
      "       u'Cumulative trips (since launch):',\n",
      "       u'Miles traveled today (midnight to 11:59 pm)',\n",
      "       u'Miles traveled to date:', u'Total Annual Memberships Sold',\n",
      "       u'Annual Member Sign-Ups (midnight to 11:59 pm)',\n",
      "       u'24-Hour Passes Purchased (midnight to 11:59 pm)',\n",
      "       u'7-Day Passes Purchased (midnight to 11:59 pm)'],\n",
      "      dtype='object')\n",
      "Index([u'Date', u'Trips over the past 24-hours (midnight to 11:59pm)',\n",
      "       u'Cumulative trips (since launch):',\n",
      "       u'Miles traveled today (midnight to 11:59 pm)',\n",
      "       u'Miles traveled to date:', u'Total Annual Memberships Sold',\n",
      "       u'Annual Member Sign-Ups (midnight to 11:59 pm)',\n",
      "       u'24-Hour Passes Purchased (midnight to 11:59 pm)',\n",
      "       u'7-Day Passes Purchased (midnight to 11:59 pm)'],\n",
      "      dtype='object')\n",
      "Index([u'Date', u'Trips over the past 24-hours (midnight to 11:59pm)',\n",
      "       u'Cumulative trips (since launch):',\n",
      "       u'Miles traveled today (midnight to 11:59 pm)',\n",
      "       u'Miles traveled to date:', u'Total Annual Members (All Time)',\n",
      "       u'24-Hour Passes Purchased (midnight to 11:59 pm)',\n",
      "       u'3-Day Passes Purchased (midnight to 11:59 pm)',\n",
      "       u'7-Day Passes Purchased (midnight to 11:59 pm)'],\n",
      "      dtype='object')\n",
      "Index([u'Date', u'Trips over the past 24-hours (midnight to 11:59pm)',\n",
      "       u'Cumulative trips (since launch):',\n",
      "       u'Miles traveled today (midnight to 11:59 pm)',\n",
      "       u'Miles traveled to date:', u'Total Annual Memberships Sold',\n",
      "       u'Annual Member Sign-Ups (midnight to 11:59 pm)',\n",
      "       u'24-Hour Passes Purchased (midnight to 11:59 pm)',\n",
      "       u'7-Day Passes Purchased (midnight to 11:59 pm)'],\n",
      "      dtype='object')\n",
      "Index([u'Date', u'Trips over the past 24-hours (midnight to 11:59pm)',\n",
      "       u'Cumulative trips (since launch):',\n",
      "       u'Miles traveled today (midnight to 11:59 pm)',\n",
      "       u'Miles traveled to date:', u'Total Annual Members (All Time)',\n",
      "       u'24-Hour Passes Purchased (midnight to 11:59 pm)',\n",
      "       u'7-Day Passes Purchased (midnight to 11:59 pm)'],\n",
      "      dtype='object')\n",
      "Index([u'Date', u'Trips over the past 24-hours (midnight to 11:59pm)',\n",
      "       u'Cumulative trips (since launch):',\n",
      "       u'Miles traveled today (midnight to 11:59 pm)',\n",
      "       u'Miles traveled to date:', u'Total Annual Members (All Time)',\n",
      "       u'24-Hour Passes Purchased (midnight to 11:59 pm)',\n",
      "       u'3-Day Passes Purchased (midnight to 11:59 pm)'],\n",
      "      dtype='object')\n",
      "Index([u'Date', u'Trips over the past 24-hours (midnight to 11:59pm)',\n",
      "       u'Cumulative trips (since launch):',\n",
      "       u'Miles traveled today (midnight to 11:59 pm)',\n",
      "       u'Miles traveled to date:', u'Total Annual Members (All Time)',\n",
      "       u'24-Hour Passes Purchased (midnight to 11:59 pm)',\n",
      "       u'7-Day Passes Purchased (midnight to 11:59 pm)'],\n",
      "      dtype='object')\n",
      "Index([u'Date', u'Trips over the past 24-hours (midnight to 11:59pm)',\n",
      "       u'Cumulative trips (since launch):',\n",
      "       u'Miles traveled today (midnight to 11:59 pm)',\n",
      "       u'Miles traveled to date:', u'Total Annual Members',\n",
      "       u'Annual Member Sign-Ups (midnight to 11:59 pm)',\n",
      "       u'24-Hour Passes Purchased (midnight to 11:59 pm)',\n",
      "       u'7-Day Passes Purchased (midnight to 11:59 pm)'],\n",
      "      dtype='object')\n",
      "Index([u'Date', u'Trips over the past 24-hours (midnight to 11:59pm)',\n",
      "       u'Cumulative trips (since launch):',\n",
      "       u'Miles traveled today (midnight to 11:59 pm)',\n",
      "       u'Miles traveled to date:', u'Total Annual Memberships Sold',\n",
      "       u'24-Hour Passes Purchased (midnight to 11:59 pm)',\n",
      "       u'7-Day Passes Purchased (midnight to 11:59 pm)'],\n",
      "      dtype='object')\n",
      "Index([u'Date', u'Trips over the past 24-hours (midnight to 11:59pm)',\n",
      "       u'Cumulative trips (since launch):',\n",
      "       u'Miles traveled today (midnight to 11:59 pm)',\n",
      "       u'Miles traveled to date:', u'Total Annual Members (All Time)',\n",
      "       u'24-Hour Passes Purchased (midnight to 11:59 pm)',\n",
      "       u'7-Day Passes Purchased (midnight to 11:59 pm)'],\n",
      "      dtype='object')\n",
      "Index([u'Date', u'Trips over the past 24-hours (midnight to 11:59pm)',\n",
      "       u'Cumulative trips (since launch):',\n",
      "       u'Miles traveled today (midnight to 11:59 pm)',\n",
      "       u'Miles traveled to date:', u'Total Annual Members',\n",
      "       u'Annual Member Sign-Ups (midnight to 11:59 pm)',\n",
      "       u'24-Hour Passes Purchased (midnight to 11:59 pm)',\n",
      "       u'7-Day Passes Purchased (midnight to 11:59 pm)'],\n",
      "      dtype='object')\n",
      "Index([u'Date', u'Trips over the past 24-hours (midnight to 11:59pm)',\n",
      "       u'Cumulative trips (since launch)',\n",
      "       u'Miles traveled today (midnight to 11:59 pm)',\n",
      "       u'Miles traveled to date', u'Total Annual Memberships Sold',\n",
      "       u'24-Hour Passes Purchased (midnight to 11:59 pm)',\n",
      "       u'7-Day Passes Purchased (midnight to 11:59 pm)'],\n",
      "      dtype='object')\n",
      "Index([u'Date', u'Trips over the past 24-hours (midnight to 11:59pm)',\n",
      "       u'Cumulative trips (since launch):',\n",
      "       u'Miles traveled today (midnight to 11:59 pm)',\n",
      "       u'Miles traveled to date:', u'Total Annual Members (All Time)',\n",
      "       u'24-Hour Passes Purchased (midnight to 11:59 pm)',\n",
      "       u'3-Day Passes Purchased (midnight to 11:59 pm)'],\n",
      "      dtype='object')\n"
     ]
    }
   ],
   "source": [
    "files = glob.glob(os.path.join(data_dir,'data-*'))\n",
    "for tmp_file in files:\n",
    "    df = pd.read_csv(tmp_file)\n",
    "    print(df.columns)"
   ]
  },
  {
   "cell_type": "code",
   "execution_count": null,
   "metadata": {
    "collapsed": true
   },
   "outputs": [],
   "source": []
  }
 ],
 "metadata": {
  "kernelspec": {
   "display_name": "Python 2",
   "language": "python",
   "name": "python2"
  },
  "language_info": {
   "codemirror_mode": {
    "name": "ipython",
    "version": 2
   },
   "file_extension": ".py",
   "mimetype": "text/x-python",
   "name": "python",
   "nbconvert_exporter": "python",
   "pygments_lexer": "ipython2",
   "version": "2.7.13"
  }
 },
 "nbformat": 4,
 "nbformat_minor": 0
}
