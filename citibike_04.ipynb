{
 "cells": [
  {
   "cell_type": "code",
   "execution_count": 1,
   "metadata": {
    "collapsed": true
   },
   "outputs": [],
   "source": [
    "from __future__ import absolute_import, division, print_function"
   ]
  },
  {
   "cell_type": "markdown",
   "metadata": {},
   "source": [
    "# Citi Bike Daily Ridership and Membership Data"
   ]
  },
  {
   "cell_type": "markdown",
   "metadata": {},
   "source": [
    "Date taken from: https://www.citibikenyc.com/system-data"
   ]
  },
  {
   "cell_type": "markdown",
   "metadata": {},
   "source": [
    "## Imports"
   ]
  },
  {
   "cell_type": "code",
   "execution_count": 2,
   "metadata": {
    "collapsed": true
   },
   "outputs": [],
   "source": [
    "import datetime\n",
    "import os\n",
    "import glob\n",
    "\n",
    "import numpy as np\n",
    "import pandas as pd\n",
    "\n",
    "import matplotlib as mpl\n",
    "import matplotlib.pyplot as plt\n",
    "import matplotlib.dates as mdates\n",
    "import matplotlib.lines as mlines\n",
    "\n",
    "%matplotlib inline"
   ]
  },
  {
   "cell_type": "markdown",
   "metadata": {},
   "source": [
    "## Data"
   ]
  },
  {
   "cell_type": "code",
   "execution_count": 3,
   "metadata": {
    "collapsed": true
   },
   "outputs": [],
   "source": [
    "data_dir = os.path.join(os.getcwd(),'..','..','data')"
   ]
  },
  {
   "cell_type": "code",
   "execution_count": 4,
   "metadata": {
    "collapsed": false
   },
   "outputs": [
    {
     "data": {
      "text/html": [
       "<div>\n",
       "<table border=\"1\" class=\"dataframe\">\n",
       "  <thead>\n",
       "    <tr style=\"text-align: right;\">\n",
       "      <th></th>\n",
       "      <th>Date</th>\n",
       "      <th>Trips over the past 24-hours (midnight to 11:59pm)</th>\n",
       "      <th>Cumulative trips (since launch):</th>\n",
       "      <th>Miles traveled today (midnight to 11:59 pm)</th>\n",
       "      <th>Miles traveled to date:</th>\n",
       "      <th>Total Annual Members (All Time)</th>\n",
       "      <th>24-Hour Passes Purchased (midnight to 11:59 pm)</th>\n",
       "      <th>7-Day Passes Purchased (midnight to 11:59 pm)</th>\n",
       "    </tr>\n",
       "  </thead>\n",
       "  <tbody>\n",
       "    <tr>\n",
       "      <th>0</th>\n",
       "      <td>1/1/2015</td>\n",
       "      <td>5792</td>\n",
       "      <td>15216843</td>\n",
       "      <td>9191</td>\n",
       "      <td>26055797</td>\n",
       "      <td>127279</td>\n",
       "      <td>267</td>\n",
       "      <td>11</td>\n",
       "    </tr>\n",
       "    <tr>\n",
       "      <th>1</th>\n",
       "      <td>1/2/2015</td>\n",
       "      <td>12371</td>\n",
       "      <td>15229214</td>\n",
       "      <td>18222</td>\n",
       "      <td>26074019</td>\n",
       "      <td>127293</td>\n",
       "      <td>298</td>\n",
       "      <td>8</td>\n",
       "    </tr>\n",
       "    <tr>\n",
       "      <th>2</th>\n",
       "      <td>1/3/2015</td>\n",
       "      <td>4834</td>\n",
       "      <td>15234048</td>\n",
       "      <td>6282</td>\n",
       "      <td>26080301</td>\n",
       "      <td>127300</td>\n",
       "      <td>96</td>\n",
       "      <td>7</td>\n",
       "    </tr>\n",
       "    <tr>\n",
       "      <th>3</th>\n",
       "      <td>1/4/2015</td>\n",
       "      <td>8509</td>\n",
       "      <td>15242557</td>\n",
       "      <td>11700</td>\n",
       "      <td>26092001</td>\n",
       "      <td>127308</td>\n",
       "      <td>152</td>\n",
       "      <td>5</td>\n",
       "    </tr>\n",
       "    <tr>\n",
       "      <th>4</th>\n",
       "      <td>1/5/2015</td>\n",
       "      <td>15792</td>\n",
       "      <td>15258349</td>\n",
       "      <td>20022</td>\n",
       "      <td>26112023</td>\n",
       "      <td>127336</td>\n",
       "      <td>88</td>\n",
       "      <td>12</td>\n",
       "    </tr>\n",
       "  </tbody>\n",
       "</table>\n",
       "</div>"
      ],
      "text/plain": [
       "       Date  Trips over the past 24-hours (midnight to 11:59pm)  \\\n",
       "0  1/1/2015                                               5792    \n",
       "1  1/2/2015                                              12371    \n",
       "2  1/3/2015                                               4834    \n",
       "3  1/4/2015                                               8509    \n",
       "4  1/5/2015                                              15792    \n",
       "\n",
       "   Cumulative trips (since launch):  \\\n",
       "0                          15216843   \n",
       "1                          15229214   \n",
       "2                          15234048   \n",
       "3                          15242557   \n",
       "4                          15258349   \n",
       "\n",
       "   Miles traveled today (midnight to 11:59 pm)  Miles traveled to date:  \\\n",
       "0                                         9191                 26055797   \n",
       "1                                        18222                 26074019   \n",
       "2                                         6282                 26080301   \n",
       "3                                        11700                 26092001   \n",
       "4                                        20022                 26112023   \n",
       "\n",
       "   Total Annual Members (All Time)  \\\n",
       "0                           127279   \n",
       "1                           127293   \n",
       "2                           127300   \n",
       "3                           127308   \n",
       "4                           127336   \n",
       "\n",
       "   24-Hour Passes Purchased (midnight to 11:59 pm)  \\\n",
       "0                                              267   \n",
       "1                                              298   \n",
       "2                                               96   \n",
       "3                                              152   \n",
       "4                                               88   \n",
       "\n",
       "   7-Day Passes Purchased (midnight to 11:59 pm)  \n",
       "0                                             11  \n",
       "1                                              8  \n",
       "2                                              7  \n",
       "3                                              5  \n",
       "4                                             12  "
      ]
     },
     "execution_count": 4,
     "metadata": {},
     "output_type": "execute_result"
    }
   ],
   "source": [
    "df_2015 = pd.read_csv(os.path.join(data_dir,'detailed_2015.csv'))\n",
    "df_2015.head()"
   ]
  },
  {
   "cell_type": "code",
   "execution_count": 5,
   "metadata": {
    "collapsed": false
   },
   "outputs": [
    {
     "name": "stdout",
     "output_type": "stream",
     "text": [
      "<class 'pandas.core.frame.DataFrame'>\n",
      "RangeIndex: 365 entries, 0 to 364\n",
      "Data columns (total 8 columns):\n",
      "Date                                                  365 non-null object\n",
      "Trips over the past 24-hours (midnight to 11:59pm)    365 non-null int64\n",
      "Cumulative trips (since launch):                      365 non-null int64\n",
      "Miles traveled today (midnight to 11:59 pm)           365 non-null int64\n",
      "Miles traveled to date:                               365 non-null int64\n",
      "Total Annual Members (All Time)                       365 non-null int64\n",
      "24-Hour Passes Purchased (midnight to 11:59 pm)       365 non-null int64\n",
      "7-Day Passes Purchased (midnight to 11:59 pm)         365 non-null int64\n",
      "dtypes: int64(7), object(1)\n",
      "memory usage: 22.9+ KB\n"
     ]
    }
   ],
   "source": [
    "df_2015.info()"
   ]
  },
  {
   "cell_type": "code",
   "execution_count": 6,
   "metadata": {
    "collapsed": false,
    "scrolled": true
   },
   "outputs": [
    {
     "data": {
      "text/html": [
       "<div>\n",
       "<table border=\"1\" class=\"dataframe\">\n",
       "  <thead>\n",
       "    <tr style=\"text-align: right;\">\n",
       "      <th></th>\n",
       "      <th>Date</th>\n",
       "      <th>Trips over the past 24-hours (midnight to 11:59pm)</th>\n",
       "      <th>Cumulative trips (since launch):</th>\n",
       "      <th>Miles traveled today (midnight to 11:59 pm)</th>\n",
       "      <th>Miles traveled to date:</th>\n",
       "      <th>Total Annual Members (All Time)</th>\n",
       "      <th>24-Hour Passes Purchased (midnight to 11:59 pm)</th>\n",
       "      <th>3-Day Passes Purchased (midnight to 11:59 pm)</th>\n",
       "      <th>7-Day Passes Purchased (midnight to 11:59 pm)</th>\n",
       "    </tr>\n",
       "  </thead>\n",
       "  <tbody>\n",
       "    <tr>\n",
       "      <th>0</th>\n",
       "      <td>7/1/16</td>\n",
       "      <td>39665</td>\n",
       "      <td>30074752</td>\n",
       "      <td>82871</td>\n",
       "      <td>56801553</td>\n",
       "      <td>179756</td>\n",
       "      <td>1316</td>\n",
       "      <td>139</td>\n",
       "      <td>0</td>\n",
       "    </tr>\n",
       "    <tr>\n",
       "      <th>1</th>\n",
       "      <td>7/2/16</td>\n",
       "      <td>35835</td>\n",
       "      <td>30110587</td>\n",
       "      <td>111151</td>\n",
       "      <td>56912704</td>\n",
       "      <td>179903</td>\n",
       "      <td>3596</td>\n",
       "      <td>314</td>\n",
       "      <td>0</td>\n",
       "    </tr>\n",
       "    <tr>\n",
       "      <th>2</th>\n",
       "      <td>7/3/16</td>\n",
       "      <td>35347</td>\n",
       "      <td>30145934</td>\n",
       "      <td>111116</td>\n",
       "      <td>57023820</td>\n",
       "      <td>180016</td>\n",
       "      <td>4095</td>\n",
       "      <td>169</td>\n",
       "      <td>0</td>\n",
       "    </tr>\n",
       "    <tr>\n",
       "      <th>3</th>\n",
       "      <td>7/4/16</td>\n",
       "      <td>34859</td>\n",
       "      <td>30180793</td>\n",
       "      <td>109745</td>\n",
       "      <td>57133565</td>\n",
       "      <td>180158</td>\n",
       "      <td>3826</td>\n",
       "      <td>155</td>\n",
       "      <td>0</td>\n",
       "    </tr>\n",
       "    <tr>\n",
       "      <th>4</th>\n",
       "      <td>7/5/16</td>\n",
       "      <td>43736</td>\n",
       "      <td>30224529</td>\n",
       "      <td>92107</td>\n",
       "      <td>57225672</td>\n",
       "      <td>180338</td>\n",
       "      <td>1357</td>\n",
       "      <td>160</td>\n",
       "      <td>0</td>\n",
       "    </tr>\n",
       "  </tbody>\n",
       "</table>\n",
       "</div>"
      ],
      "text/plain": [
       "     Date  Trips over the past 24-hours (midnight to 11:59pm)  \\\n",
       "0  7/1/16                                              39665    \n",
       "1  7/2/16                                              35835    \n",
       "2  7/3/16                                              35347    \n",
       "3  7/4/16                                              34859    \n",
       "4  7/5/16                                              43736    \n",
       "\n",
       "   Cumulative trips (since launch):  \\\n",
       "0                          30074752   \n",
       "1                          30110587   \n",
       "2                          30145934   \n",
       "3                          30180793   \n",
       "4                          30224529   \n",
       "\n",
       "   Miles traveled today (midnight to 11:59 pm)  Miles traveled to date:  \\\n",
       "0                                        82871                 56801553   \n",
       "1                                       111151                 56912704   \n",
       "2                                       111116                 57023820   \n",
       "3                                       109745                 57133565   \n",
       "4                                        92107                 57225672   \n",
       "\n",
       "   Total Annual Members (All Time)  \\\n",
       "0                           179756   \n",
       "1                           179903   \n",
       "2                           180016   \n",
       "3                           180158   \n",
       "4                           180338   \n",
       "\n",
       "   24-Hour Passes Purchased (midnight to 11:59 pm)  \\\n",
       "0                                             1316   \n",
       "1                                             3596   \n",
       "2                                             4095   \n",
       "3                                             3826   \n",
       "4                                             1357   \n",
       "\n",
       "   3-Day Passes Purchased (midnight to 11:59 pm)  \\\n",
       "0                                            139   \n",
       "1                                            314   \n",
       "2                                            169   \n",
       "3                                            155   \n",
       "4                                            160   \n",
       "\n",
       "   7-Day Passes Purchased (midnight to 11:59 pm)  \n",
       "0                                              0  \n",
       "1                                              0  \n",
       "2                                              0  \n",
       "3                                              0  \n",
       "4                                              0  "
      ]
     },
     "execution_count": 6,
     "metadata": {},
     "output_type": "execute_result"
    }
   ],
   "source": [
    "df_2016 = pd.read_csv(os.path.join(data_dir,'detailed_2016.csv'))\n",
    "df_2016.head()"
   ]
  },
  {
   "cell_type": "code",
   "execution_count": 7,
   "metadata": {
    "collapsed": false
   },
   "outputs": [
    {
     "name": "stdout",
     "output_type": "stream",
     "text": [
      "<class 'pandas.core.frame.DataFrame'>\n",
      "RangeIndex: 366 entries, 0 to 365\n",
      "Data columns (total 9 columns):\n",
      "Date                                                  366 non-null object\n",
      "Trips over the past 24-hours (midnight to 11:59pm)    366 non-null int64\n",
      "Cumulative trips (since launch):                      366 non-null int64\n",
      "Miles traveled today (midnight to 11:59 pm)           366 non-null int64\n",
      "Miles traveled to date:                               366 non-null int64\n",
      "Total Annual Members (All Time)                       366 non-null int64\n",
      "24-Hour Passes Purchased (midnight to 11:59 pm)       366 non-null int64\n",
      "3-Day Passes Purchased (midnight to 11:59 pm)         366 non-null int64\n",
      "7-Day Passes Purchased (midnight to 11:59 pm)         366 non-null int64\n",
      "dtypes: int64(8), object(1)\n",
      "memory usage: 25.8+ KB\n"
     ]
    }
   ],
   "source": [
    "df_2016.info()"
   ]
  },
  {
   "cell_type": "code",
   "execution_count": null,
   "metadata": {
    "collapsed": true
   },
   "outputs": [],
   "source": []
  }
 ],
 "metadata": {
  "kernelspec": {
   "display_name": "Python 2",
   "language": "python",
   "name": "python2"
  },
  "language_info": {
   "codemirror_mode": {
    "name": "ipython",
    "version": 2
   },
   "file_extension": ".py",
   "mimetype": "text/x-python",
   "name": "python",
   "nbconvert_exporter": "python",
   "pygments_lexer": "ipython2",
   "version": "2.7.13"
  }
 },
 "nbformat": 4,
 "nbformat_minor": 0
}
