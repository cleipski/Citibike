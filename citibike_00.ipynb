{
 "cells": [
  {
   "cell_type": "code",
   "execution_count": 51,
   "metadata": {
    "collapsed": true
   },
   "outputs": [],
   "source": [
    "from __future__ import absolute_import, division, print_function"
   ]
  },
  {
   "cell_type": "markdown",
   "metadata": {},
   "source": [
    "# Get data into SQL database"
   ]
  },
  {
   "cell_type": "code",
   "execution_count": 52,
   "metadata": {
    "collapsed": true
   },
   "outputs": [],
   "source": [
    "import os\n",
    "import json\n",
    "import pandas as pd\n",
    "import glob\n",
    "import numpy as np\n",
    "import sys\n",
    "import time\n",
    "import copy\n",
    "\n",
    "## Python packages - you may have to pip install sqlalchemy, sqlalchemy_utils, and psycopg2.\n",
    "from sqlalchemy import create_engine\n",
    "from sqlalchemy_utils import database_exists, create_database\n",
    "import psycopg2"
   ]
  },
  {
   "cell_type": "markdown",
   "metadata": {},
   "source": [
    "# Open connection to server and create database "
   ]
  },
  {
   "cell_type": "code",
   "execution_count": 53,
   "metadata": {
    "collapsed": false
   },
   "outputs": [
    {
     "name": "stdout",
     "output_type": "stream",
     "text": [
      "postgresql://@localhost/citibike_db\n",
      "True\n"
     ]
    }
   ],
   "source": [
    "#In Python: Define a database name (we're using a dataset on births, so I call it \n",
    "# birth_db), and your username and password used above. \n",
    "dbname = 'citibike_db'\n",
    "#username = 'username'\n",
    "#pswd = 'password'\n",
    "\n",
    "## 'engine' is a connection to a database\n",
    "## Here, we're using postgres, but sqlalchemy can connect to other things too.\n",
    "#engine = create_engine('postgresql://%s:%s@localhost/%s'%(username,pswd,dbname))\n",
    "engine = create_engine('postgresql://@localhost/%s'%(dbname))\n",
    "\n",
    "print(engine.url)\n",
    "# Replace localhost with IP address if accessing a remote server\n",
    "\n",
    "## create a database (if it doesn't exist)\n",
    "if not database_exists(engine.url):\n",
    "    create_database(engine.url)\n",
    "print(database_exists(engine.url))\n",
    "\n",
    "# Connect to an existing database\n",
    "conn = psycopg2.connect(\"dbname=citibike_db\")\n",
    "\n",
    "# Open a cursor to perform database operations\n",
    "cur = conn.cursor()\n"
   ]
  },
  {
   "cell_type": "code",
   "execution_count": null,
   "metadata": {
    "collapsed": true
   },
   "outputs": [],
   "source": []
  },
  {
   "cell_type": "markdown",
   "metadata": {},
   "source": [
    "# Prepare schema and create empty table"
   ]
  },
  {
   "cell_type": "markdown",
   "metadata": {},
   "source": [
    "## First, assert that the columns are all the same"
   ]
  },
  {
   "cell_type": "code",
   "execution_count": 124,
   "metadata": {
    "collapsed": false
   },
   "outputs": [
    {
     "name": "stdout",
     "output_type": "stream",
     "text": [
      "Number of files: 38\n"
     ]
    }
   ],
   "source": [
    "# Locate the files\n",
    "data_dir = os.path.join(os.getcwd(),'..','..','data','citibike')\n",
    "files = glob.glob(os.path.join(data_dir,'*trip*.csv'))\n",
    "print('Number of files: '+str(len(files)))"
   ]
  },
  {
   "cell_type": "code",
   "execution_count": 55,
   "metadata": {
    "collapsed": false
   },
   "outputs": [],
   "source": [
    "headers = {}\n",
    "for idx,tmp in enumerate(files):\n",
    "    df = pd.read_csv(tmp,nrows=5)\n",
    "    # Changes to header after first run (see 'Note' below)\n",
    "    df.columns = [x.lower() for x in df.columns]\n",
    "    df.columns = ['bikeid' if x == 'bike id' else x for x in df.columns]\n",
    "    df.columns = ['usertype' if x == 'user type' else x for x in df.columns]\n",
    "    df.columns = ['tripduration' if x == 'trip duration' else x for x in df.columns]\n",
    "    df.columns = ['starttime' if x == 'start time' else x for x in df.columns]\n",
    "    df.columns = ['stoptime' if x == 'stop time' else x for x in df.columns]\n",
    "    # End changes\n",
    "    df.columns = [x.replace(' ','_') for x in df.columns]\n",
    "    headers[idx] = df.columns.tolist()\n",
    "    if idx > 0:\n",
    "        # Assert that column labels match\n",
    "        try:\n",
    "            assert(headers[idx] == headers[0])\n",
    "        except AssertionError:\n",
    "            print('Mismatch in header for file with index {}'.format(idx))\n",
    "                        "
   ]
  },
  {
   "cell_type": "markdown",
   "metadata": {},
   "source": [
    "Note:\n",
    "\n",
    "On first run I got the following errors:\n",
    "    \n",
    "    Mismatch in header for file with index 35\n",
    "    Mismatch in header for file with index 36\n",
    "    Mismatch in header for file with index 37\n",
    "    \n",
    "The variations were in captitalization of some column names as well as contractions (e.g., 'bikeid' vs 'Bike ID').\n",
    "Add appropriate changes to the code section that reads the data frames from the csv files."
   ]
  },
  {
   "cell_type": "code",
   "execution_count": null,
   "metadata": {
    "collapsed": true
   },
   "outputs": [],
   "source": []
  },
  {
   "cell_type": "markdown",
   "metadata": {},
   "source": [
    "## Use header to create schema"
   ]
  },
  {
   "cell_type": "code",
   "execution_count": 56,
   "metadata": {
    "collapsed": false
   },
   "outputs": [
    {
     "name": "stdout",
     "output_type": "stream",
     "text": [
      "tripduration\n",
      "starttime\n",
      "stoptime\n",
      "start_station_id\n",
      "start_station_name\n",
      "start_station_latitude\n",
      "start_station_longitude\n",
      "end_station_id\n",
      "end_station_name\n",
      "end_station_latitude\n",
      "end_station_longitude\n",
      "bikeid\n",
      "usertype\n",
      "birth_year\n",
      "gender\n"
     ]
    }
   ],
   "source": [
    "for head in headers[0]:\n",
    "    print(head)"
   ]
  },
  {
   "cell_type": "code",
   "execution_count": 57,
   "metadata": {
    "collapsed": true
   },
   "outputs": [],
   "source": [
    "# Hardcode format\n",
    "# check here for varchar vs text\n",
    "# http://stackoverflow.com/questions/4848964/postgresql-difference-between-text-and-varchar-character-varying\n",
    "\n",
    "postgre_schema = {\n",
    "    'tripduration': 'integer' ,\n",
    "    'starttime': 'timestamp',\n",
    "    'stoptime': 'timestamp',\n",
    "    'start_station_id': 'integer' ,\n",
    "    'start_station_name': 'text',\n",
    "    'start_station_latitude': 'double precision',\n",
    "    'start_station_longitude': 'double precision',\n",
    "    'end_station_id': 'integer' ,\n",
    "    'end_station_name': 'text',\n",
    "    'end_station_latitude': 'double precision',\n",
    "    'end_station_longitude': 'double precision',\n",
    "    'bikeid': 'integer' ,\n",
    "    'usertype': 'text',\n",
    "    'birth_year': 'integer' ,\n",
    "    'gender': 'text'}\n"
   ]
  },
  {
   "cell_type": "code",
   "execution_count": 58,
   "metadata": {
    "collapsed": true
   },
   "outputs": [],
   "source": [
    "# Add Primary key\n",
    "postgre_schema['pk'] = 'serial PRIMARY KEY'"
   ]
  },
  {
   "cell_type": "code",
   "execution_count": 59,
   "metadata": {
    "collapsed": false
   },
   "outputs": [
    {
     "name": "stdout",
     "output_type": "stream",
     "text": [
      "All is well!\n"
     ]
    }
   ],
   "source": [
    "# Turn into ordered list with fixed length columns first, leading with primary key\n",
    "# http://stackoverflow.com/questions/12604744/does-the-order-of-columns-in-a-postgres-table-impact-performance\n",
    "postgre_schema_list = []\n",
    "# Primary key first\n",
    "postgre_schema_list += ([(k, postgre_schema[k]) \n",
    "                         for k in postgre_schema.keys() if k == 'pk'])\n",
    "postgre_schema_list += ([(k, postgre_schema[k]) \n",
    "                         for k in postgre_schema.keys() if postgre_schema[k] == 'integer'])\n",
    "postgre_schema_list += ([(k, postgre_schema[k]) \n",
    "                         for k in postgre_schema.keys() if postgre_schema[k] == 'bigint'])\n",
    "postgre_schema_list += ([(k, postgre_schema[k]) \n",
    "                         for k in postgre_schema.keys() if postgre_schema[k] == 'double precision'])\n",
    "postgre_schema_list += ([(k, postgre_schema[k]) \n",
    "                         for k in postgre_schema.keys() if postgre_schema[k] == 'timestamp'])\n",
    "postgre_schema_list += ([(k, postgre_schema[k]) \n",
    "                         for k in postgre_schema.keys() if postgre_schema[k] == 'text'])\n",
    "# Check that everything is still there\n",
    "if len(postgre_schema_list) == len(postgre_schema.keys()):\n",
    "    print('All is well!')\n",
    "else:\n",
    "    print('You forgot something!')\n",
    "\n"
   ]
  },
  {
   "cell_type": "code",
   "execution_count": 60,
   "metadata": {
    "collapsed": false
   },
   "outputs": [
    {
     "name": "stdout",
     "output_type": "stream",
     "text": [
      "[('pk', 'serial PRIMARY KEY'), ('end_station_id', 'integer'), ('tripduration', 'integer'), ('bikeid', 'integer'), ('start_station_id', 'integer'), ('birth_year', 'integer'), ('start_station_latitude', 'double precision'), ('start_station_longitude', 'double precision'), ('end_station_latitude', 'double precision'), ('end_station_longitude', 'double precision'), ('stoptime', 'timestamp'), ('starttime', 'timestamp'), ('gender', 'text'), ('usertype', 'text'), ('start_station_name', 'text'), ('end_station_name', 'text')]\n"
     ]
    }
   ],
   "source": [
    "print(postgre_schema_list)"
   ]
  },
  {
   "cell_type": "code",
   "execution_count": 61,
   "metadata": {
    "collapsed": false
   },
   "outputs": [
    {
     "name": "stdout",
     "output_type": "stream",
     "text": [
      "CREATE TABLE citibike_all (pk serial PRIMARY KEY, end_station_id integer, tripduration integer, bikeid integer, start_station_id integer, birth_year integer, start_station_latitude double precision, start_station_longitude double precision, end_station_latitude double precision, end_station_longitude double precision, stoptime timestamp, starttime timestamp, gender text, usertype text, start_station_name text, end_station_name text);\n"
     ]
    }
   ],
   "source": [
    "# Build 'CREATE TABLE; string\n",
    "tmp_str = ''\n",
    "for idx, column in enumerate(postgre_schema_list):\n",
    "    tmp_str = tmp_str+column[0]+' '+column[1]\n",
    "    if idx < len(postgre_schema_list)-1:\n",
    "        tmp_str = tmp_str+', '\n",
    "str_create_table = \"CREATE TABLE citibike_all (\"+tmp_str+\");\"\n",
    "print(str_create_table)"
   ]
  },
  {
   "cell_type": "code",
   "execution_count": 62,
   "metadata": {
    "collapsed": true
   },
   "outputs": [],
   "source": [
    "# Execute a command: this creates a new table\n",
    "cur.execute(str_create_table)\n",
    "\n"
   ]
  },
  {
   "cell_type": "code",
   "execution_count": 63,
   "metadata": {
    "collapsed": true
   },
   "outputs": [],
   "source": [
    "# Make the changes to the database persistent\n",
    "conn.commit()"
   ]
  },
  {
   "cell_type": "code",
   "execution_count": null,
   "metadata": {
    "collapsed": true
   },
   "outputs": [],
   "source": []
  },
  {
   "cell_type": "code",
   "execution_count": null,
   "metadata": {
    "collapsed": true
   },
   "outputs": [],
   "source": []
  },
  {
   "cell_type": "markdown",
   "metadata": {},
   "source": [
    "# Read data and write to SQL table"
   ]
  },
  {
   "cell_type": "code",
   "execution_count": 64,
   "metadata": {
    "collapsed": false
   },
   "outputs": [
    {
     "name": "stdout",
     "output_type": "stream",
     "text": [
      "Number of files: 38\n"
     ]
    }
   ],
   "source": [
    "# Locate the files\n",
    "files = glob.glob(os.path.join(data_dir,'*trip*.csv'))\n",
    "print('Number of files: '+str(len(files)))"
   ]
  },
  {
   "cell_type": "code",
   "execution_count": null,
   "metadata": {
    "collapsed": true
   },
   "outputs": [],
   "source": []
  },
  {
   "cell_type": "code",
   "execution_count": 88,
   "metadata": {
    "collapsed": false
   },
   "outputs": [],
   "source": [
    "# Read data and check contents\n",
    "for idx,tmp in enumerate(files):\n",
    "    if idx == 0:\n",
    "        df = pd.read_csv(tmp)\n",
    "        # Changes to header after first run (see 'Note' below)\n",
    "        df.columns = [x.lower() for x in df.columns]\n",
    "        df.columns = ['bikeid' if x == 'bike id' else x for x in df.columns]\n",
    "        df.columns = ['usertype' if x == 'user type' else x for x in df.columns]\n",
    "        df.columns = ['tripduration' if x == 'trip duration' else x for x in df.columns]\n",
    "        df.columns = ['starttime' if x == 'start time' else x for x in df.columns]\n",
    "        df.columns = ['stoptime' if x == 'stop time' else x for x in df.columns]\n",
    "        # End changes\n",
    "        df.columns = [x.replace(' ','_') for x in df.columns]\n",
    "        df['starttime'] = df['starttime'].apply(pd.to_datetime)\n",
    "        df['stoptime'] = df['stoptime'].apply(pd.to_datetime)\n"
   ]
  },
  {
   "cell_type": "code",
   "execution_count": 89,
   "metadata": {
    "collapsed": false
   },
   "outputs": [
    {
     "name": "stdout",
     "output_type": "stream",
     "text": [
      "<class 'pandas.core.frame.DataFrame'>\n",
      "RangeIndex: 843416 entries, 0 to 843415\n",
      "Data columns (total 15 columns):\n",
      "tripduration               843416 non-null int64\n",
      "starttime                  843416 non-null datetime64[ns]\n",
      "stoptime                   843416 non-null datetime64[ns]\n",
      "start_station_id           843416 non-null int64\n",
      "start_station_name         843416 non-null object\n",
      "start_station_latitude     843416 non-null float64\n",
      "start_station_longitude    843416 non-null float64\n",
      "end_station_id             843416 non-null int64\n",
      "end_station_name           843416 non-null object\n",
      "end_station_latitude       843416 non-null float64\n",
      "end_station_longitude      843416 non-null float64\n",
      "bikeid                     843416 non-null int64\n",
      "usertype                   843416 non-null object\n",
      "birth_year                 843416 non-null object\n",
      "gender                     843416 non-null int64\n",
      "dtypes: datetime64[ns](2), float64(4), int64(5), object(4)\n",
      "memory usage: 96.5+ MB\n"
     ]
    }
   ],
   "source": [
    "df.info()"
   ]
  },
  {
   "cell_type": "code",
   "execution_count": 94,
   "metadata": {
    "collapsed": false
   },
   "outputs": [
    {
     "name": "stdout",
     "output_type": "stream",
     "text": [
      "\\N\n"
     ]
    }
   ],
   "source": [
    "# Check for non-integer strings in 'birth_year' column\n",
    "# (This caused an error during SQL commit below)\n",
    "for i in range(df.shape[0]):\n",
    "    try:\n",
    "        int(df['birth_year'][i])\n",
    "    except:\n",
    "        print(df['birth_year'][i])\n",
    "        break\n"
   ]
  },
  {
   "cell_type": "code",
   "execution_count": 95,
   "metadata": {
    "collapsed": false
   },
   "outputs": [],
   "source": [
    "# Replace string with numeric string, assuming it is alwys the same\n",
    "df['birth_year'] = df['birth_year'].replace('\\\\N', '9999')\n"
   ]
  },
  {
   "cell_type": "code",
   "execution_count": 96,
   "metadata": {
    "collapsed": false
   },
   "outputs": [],
   "source": [
    "# Check !\n",
    "for i in range(df.shape[0]):\n",
    "    tmp = df['birth_year'][i]\n",
    "    try:\n",
    "        int(tmp)\n",
    "    except:\n",
    "        print(tmp)\n",
    "        break\n"
   ]
  },
  {
   "cell_type": "code",
   "execution_count": 97,
   "metadata": {
    "collapsed": true
   },
   "outputs": [],
   "source": [
    "# Convert to numeric\n",
    "df['birth_year'] = df['birth_year'].apply(pd.to_numeric)"
   ]
  },
  {
   "cell_type": "code",
   "execution_count": null,
   "metadata": {
    "collapsed": true
   },
   "outputs": [],
   "source": []
  },
  {
   "cell_type": "code",
   "execution_count": null,
   "metadata": {
    "collapsed": true
   },
   "outputs": [],
   "source": []
  },
  {
   "cell_type": "code",
   "execution_count": 122,
   "metadata": {
    "collapsed": false
   },
   "outputs": [
    {
     "name": "stdout",
     "output_type": "stream",
     "text": [
      "Time to read table and edit data frame.\n",
      "--- 9.15958881378 seconds ---\n",
      "Time to write data to SQL.\n",
      "--- 457.856747866 seconds ---\n",
      "Time to read table and edit data frame.\n",
      "--- 473.324411869 seconds ---\n",
      "Time to write data to SQL.\n",
      "--- 338.643971205 seconds ---\n",
      "Time to read table and edit data frame.\n",
      "--- 817.442117929 seconds ---\n",
      "Time to write data to SQL.\n",
      "--- 287.003496885 seconds ---\n",
      "Time to read table and edit data frame.\n",
      "--- 1107.85331702 seconds ---\n",
      "Time to write data to SQL.\n",
      "--- 166.339803934 seconds ---\n",
      "Time to read table and edit data frame.\n",
      "--- 1277.90901804 seconds ---\n",
      "Time to write data to SQL.\n",
      "--- 186.093530178 seconds ---\n",
      "Time to read table and edit data frame.\n",
      "--- 1469.97522092 seconds ---\n",
      "Time to write data to SQL.\n",
      "--- 304.94830513 seconds ---\n",
      "Time to read table and edit data frame.\n",
      "--- 1781.44838691 seconds ---\n",
      "Time to write data to SQL.\n",
      "--- 336.165132999 seconds ---\n",
      "Time to read table and edit data frame.\n",
      "--- 2125.41932797 seconds ---\n",
      "Time to write data to SQL.\n",
      "--- 401.640307903 seconds ---\n",
      "Time to read table and edit data frame.\n",
      "--- 2536.46810603 seconds ---\n",
      "Time to write data to SQL.\n",
      "--- 495.861555099 seconds ---\n",
      "Time to read table and edit data frame.\n",
      "--- 3041.37108183 seconds ---\n",
      "Time to write data to SQL.\n",
      "--- 473.800320864 seconds ---\n",
      "Time to read table and edit data frame.\n",
      "--- 3525.13552904 seconds ---\n",
      "Time to write data to SQL.\n",
      "--- 534.570752859 seconds ---\n",
      "Time to read table and edit data frame.\n",
      "--- 4070.20335984 seconds ---\n",
      "Time to write data to SQL.\n",
      "--- 585.389476061 seconds ---\n",
      "Time to read table and edit data frame.\n",
      "--- 4665.97751784 seconds ---\n",
      "Time to write data to SQL.\n",
      "--- 552.127490044 seconds ---\n",
      "Time to read table and edit data frame.\n",
      "--- 5226.22623992 seconds ---\n",
      "Time to write data to SQL.\n",
      "--- 411.2816751 seconds ---\n",
      "Time to read table and edit data frame.\n",
      "--- 5642.99208188 seconds ---\n",
      "Time to write data to SQL.\n",
      "--- 272.057023048 seconds ---\n",
      "Time overall.\n",
      "--- 5915.05563784 seconds ---\n"
     ]
    }
   ],
   "source": [
    "# Commit data to SQL data base\n",
    "\n",
    "start_time_overall = time.time()\n",
    "\n",
    "for idx,tmp in enumerate(files):\n",
    "    if idx > 22:\n",
    "        df = pd.read_csv(tmp)\n",
    "        # Changes to header after first run (see 'Note' below)\n",
    "        df.columns = [x.lower() for x in df.columns]\n",
    "        df.columns = ['bikeid' if x == 'bike id' else x for x in df.columns]\n",
    "        df.columns = ['usertype' if x == 'user type' else x for x in df.columns]\n",
    "        df.columns = ['tripduration' if x == 'trip duration' else x for x in df.columns]\n",
    "        df.columns = ['starttime' if x == 'start time' else x for x in df.columns]\n",
    "        df.columns = ['stoptime' if x == 'stop time' else x for x in df.columns]\n",
    "        # End changes\n",
    "        df.columns = [x.replace(' ','_') for x in df.columns]\n",
    "        # For a sizeable number of entries no birth year is available\n",
    "        df['birth_year'] = df['birth_year'].replace('\\\\N', '9999') \n",
    "        df['birth_year'] = df['birth_year'].apply(pd.to_numeric)\n",
    "        print(\"Time to read table and edit data frame.\")\n",
    "        print(\"--- %s seconds ---\" % (time.time() - start_time_overall))\n",
    "        # Write to sql table\n",
    "        start_time_sql = time.time()\n",
    "        df.to_sql('citibike_all', engine, if_exists='append', index=False)\n",
    "        print(\"Time to write data to SQL.\")\n",
    "        print(\"--- %s seconds ---\" % (time.time() - start_time_sql))\n",
    "\n",
    "print(\"Time overall.\")\n",
    "print(\"--- %s seconds ---\" % (time.time() - start_time_overall))    "
   ]
  },
  {
   "cell_type": "markdown",
   "metadata": {},
   "source": [
    "# "
   ]
  },
  {
   "cell_type": "code",
   "execution_count": null,
   "metadata": {
    "collapsed": false
   },
   "outputs": [],
   "source": []
  },
  {
   "cell_type": "code",
   "execution_count": null,
   "metadata": {
    "collapsed": true
   },
   "outputs": [],
   "source": []
  },
  {
   "cell_type": "markdown",
   "metadata": {},
   "source": [
    "# More commands for interacting with the database"
   ]
  },
  {
   "cell_type": "code",
   "execution_count": null,
   "metadata": {
    "collapsed": true
   },
   "outputs": [],
   "source": [
    "# rollback transaction that created errors\n",
    "# conn.rollback()"
   ]
  },
  {
   "cell_type": "code",
   "execution_count": null,
   "metadata": {
    "collapsed": true
   },
   "outputs": [],
   "source": []
  },
  {
   "cell_type": "code",
   "execution_count": null,
   "metadata": {
    "collapsed": true
   },
   "outputs": [],
   "source": [
    "# Delete entire table from db\n",
    "# cur.execute(\"DROP TABLE tablename;\")"
   ]
  },
  {
   "cell_type": "code",
   "execution_count": null,
   "metadata": {
    "collapsed": true
   },
   "outputs": [],
   "source": []
  },
  {
   "cell_type": "code",
   "execution_count": null,
   "metadata": {
    "collapsed": true
   },
   "outputs": [],
   "source": [
    "# Make the changes to the database persistent\n",
    "# conn.commit()"
   ]
  }
 ],
 "metadata": {
  "kernelspec": {
   "display_name": "Python 2",
   "language": "python",
   "name": "python2"
  },
  "language_info": {
   "codemirror_mode": {
    "name": "ipython",
    "version": 2
   },
   "file_extension": ".py",
   "mimetype": "text/x-python",
   "name": "python",
   "nbconvert_exporter": "python",
   "pygments_lexer": "ipython2",
   "version": "2.7.13"
  }
 },
 "nbformat": 4,
 "nbformat_minor": 0
}
