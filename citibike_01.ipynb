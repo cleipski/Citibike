{
 "cells": [
  {
   "cell_type": "code",
   "execution_count": 2,
   "metadata": {
    "collapsed": true
   },
   "outputs": [],
   "source": [
    "from __future__ import absolute_import, division, print_function"
   ]
  },
  {
   "cell_type": "markdown",
   "metadata": {},
   "source": [
    "# First exploration"
   ]
  },
  {
   "cell_type": "markdown",
   "metadata": {},
   "source": [
    "## Imports"
   ]
  },
  {
   "cell_type": "code",
   "execution_count": 3,
   "metadata": {
    "collapsed": true
   },
   "outputs": [],
   "source": [
    "import json\n",
    "import datetime\n",
    "import os\n",
    "\n",
    "import numpy as np\n",
    "import pandas as pd\n",
    "\n",
    "import matplotlib as mpl\n",
    "import matplotlib.pyplot as plt\n",
    "\n",
    "%matplotlib inline\n",
    "\n"
   ]
  },
  {
   "cell_type": "markdown",
   "metadata": {},
   "source": [
    "## Duration of all rides"
   ]
  },
  {
   "cell_type": "markdown",
   "metadata": {},
   "source": [
    "### SQL"
   ]
  },
  {
   "cell_type": "raw",
   "metadata": {},
   "source": [
    "# SQL query on google big query\n",
    "\n",
    "SELECT YEAR(trips.starttime) AS yr,\n",
    "  MONTH(trips.starttime) AS mth,\n",
    "  SUM(tripduration) trips_total\n",
    "FROM\n",
    "  [bigquery-public-data:new_york.citibike_trips] AS trips\n",
    "GROUP BY\n",
    "  yr,\n",
    "  mth\n",
    "ORDER BY\n",
    "  yr,\n",
    "  mth"
   ]
  },
  {
   "cell_type": "markdown",
   "metadata": {},
   "source": [
    "### Read output data"
   ]
  },
  {
   "cell_type": "code",
   "execution_count": 22,
   "metadata": {
    "collapsed": true
   },
   "outputs": [],
   "source": [
    "data_dir = os.path.join(os.getcwd(),'..','..','data')\n",
    "\n",
    "df = pd.read_csv(os.path.join(data_dir,'results-20170126-141721.csv'))\n"
   ]
  },
  {
   "cell_type": "code",
   "execution_count": 33,
   "metadata": {
    "collapsed": false
   },
   "outputs": [
    {
     "data": {
      "text/html": [
       "<div>\n",
       "<table border=\"1\" class=\"dataframe\">\n",
       "  <thead>\n",
       "    <tr style=\"text-align: right;\">\n",
       "      <th></th>\n",
       "      <th>yr</th>\n",
       "      <th>mth</th>\n",
       "      <th>trips_total</th>\n",
       "      <th>date</th>\n",
       "    </tr>\n",
       "  </thead>\n",
       "  <tbody>\n",
       "    <tr>\n",
       "      <th>0</th>\n",
       "      <td>2013</td>\n",
       "      <td>7</td>\n",
       "      <td>841814103</td>\n",
       "      <td>2013-07-01</td>\n",
       "    </tr>\n",
       "    <tr>\n",
       "      <th>1</th>\n",
       "      <td>2013</td>\n",
       "      <td>8</td>\n",
       "      <td>981498245</td>\n",
       "      <td>2013-08-01</td>\n",
       "    </tr>\n",
       "    <tr>\n",
       "      <th>2</th>\n",
       "      <td>2013</td>\n",
       "      <td>9</td>\n",
       "      <td>936116179</td>\n",
       "      <td>2013-09-01</td>\n",
       "    </tr>\n",
       "    <tr>\n",
       "      <th>3</th>\n",
       "      <td>2013</td>\n",
       "      <td>10</td>\n",
       "      <td>856750338</td>\n",
       "      <td>2013-10-01</td>\n",
       "    </tr>\n",
       "    <tr>\n",
       "      <th>4</th>\n",
       "      <td>2013</td>\n",
       "      <td>11</td>\n",
       "      <td>521213583</td>\n",
       "      <td>2013-11-01</td>\n",
       "    </tr>\n",
       "    <tr>\n",
       "      <th>5</th>\n",
       "      <td>2013</td>\n",
       "      <td>12</td>\n",
       "      <td>333806443</td>\n",
       "      <td>2013-12-01</td>\n",
       "    </tr>\n",
       "    <tr>\n",
       "      <th>6</th>\n",
       "      <td>2014</td>\n",
       "      <td>1</td>\n",
       "      <td>220484271</td>\n",
       "      <td>2014-01-01</td>\n",
       "    </tr>\n",
       "    <tr>\n",
       "      <th>7</th>\n",
       "      <td>2014</td>\n",
       "      <td>2</td>\n",
       "      <td>196536084</td>\n",
       "      <td>2014-02-01</td>\n",
       "    </tr>\n",
       "    <tr>\n",
       "      <th>8</th>\n",
       "      <td>2014</td>\n",
       "      <td>3</td>\n",
       "      <td>314213045</td>\n",
       "      <td>2014-03-01</td>\n",
       "    </tr>\n",
       "    <tr>\n",
       "      <th>9</th>\n",
       "      <td>2014</td>\n",
       "      <td>4</td>\n",
       "      <td>557893275</td>\n",
       "      <td>2014-04-01</td>\n",
       "    </tr>\n",
       "    <tr>\n",
       "      <th>10</th>\n",
       "      <td>2014</td>\n",
       "      <td>5</td>\n",
       "      <td>762187650</td>\n",
       "      <td>2014-05-01</td>\n",
       "    </tr>\n",
       "    <tr>\n",
       "      <th>11</th>\n",
       "      <td>2014</td>\n",
       "      <td>6</td>\n",
       "      <td>835921832</td>\n",
       "      <td>2014-06-01</td>\n",
       "    </tr>\n",
       "    <tr>\n",
       "      <th>12</th>\n",
       "      <td>2014</td>\n",
       "      <td>7</td>\n",
       "      <td>833285556</td>\n",
       "      <td>2014-07-01</td>\n",
       "    </tr>\n",
       "    <tr>\n",
       "      <th>13</th>\n",
       "      <td>2014</td>\n",
       "      <td>8</td>\n",
       "      <td>852111385</td>\n",
       "      <td>2014-08-01</td>\n",
       "    </tr>\n",
       "    <tr>\n",
       "      <th>14</th>\n",
       "      <td>2014</td>\n",
       "      <td>9</td>\n",
       "      <td>856989845</td>\n",
       "      <td>2014-09-01</td>\n",
       "    </tr>\n",
       "    <tr>\n",
       "      <th>15</th>\n",
       "      <td>2014</td>\n",
       "      <td>10</td>\n",
       "      <td>732329152</td>\n",
       "      <td>2014-10-01</td>\n",
       "    </tr>\n",
       "    <tr>\n",
       "      <th>16</th>\n",
       "      <td>2014</td>\n",
       "      <td>11</td>\n",
       "      <td>418969766</td>\n",
       "      <td>2014-11-01</td>\n",
       "    </tr>\n",
       "    <tr>\n",
       "      <th>17</th>\n",
       "      <td>2014</td>\n",
       "      <td>12</td>\n",
       "      <td>297608839</td>\n",
       "      <td>2014-12-01</td>\n",
       "    </tr>\n",
       "    <tr>\n",
       "      <th>18</th>\n",
       "      <td>2015</td>\n",
       "      <td>1</td>\n",
       "      <td>186843979</td>\n",
       "      <td>2015-01-01</td>\n",
       "    </tr>\n",
       "    <tr>\n",
       "      <th>19</th>\n",
       "      <td>2015</td>\n",
       "      <td>2</td>\n",
       "      <td>127883035</td>\n",
       "      <td>2015-02-01</td>\n",
       "    </tr>\n",
       "    <tr>\n",
       "      <th>20</th>\n",
       "      <td>2015</td>\n",
       "      <td>3</td>\n",
       "      <td>251008531</td>\n",
       "      <td>2015-03-01</td>\n",
       "    </tr>\n",
       "    <tr>\n",
       "      <th>21</th>\n",
       "      <td>2015</td>\n",
       "      <td>4</td>\n",
       "      <td>606647337</td>\n",
       "      <td>2015-04-01</td>\n",
       "    </tr>\n",
       "    <tr>\n",
       "      <th>22</th>\n",
       "      <td>2015</td>\n",
       "      <td>5</td>\n",
       "      <td>962210881</td>\n",
       "      <td>2015-05-01</td>\n",
       "    </tr>\n",
       "    <tr>\n",
       "      <th>23</th>\n",
       "      <td>2015</td>\n",
       "      <td>6</td>\n",
       "      <td>851429327</td>\n",
       "      <td>2015-06-01</td>\n",
       "    </tr>\n",
       "    <tr>\n",
       "      <th>24</th>\n",
       "      <td>2015</td>\n",
       "      <td>7</td>\n",
       "      <td>1050576195</td>\n",
       "      <td>2015-07-01</td>\n",
       "    </tr>\n",
       "    <tr>\n",
       "      <th>25</th>\n",
       "      <td>2015</td>\n",
       "      <td>8</td>\n",
       "      <td>1199652118</td>\n",
       "      <td>2015-08-01</td>\n",
       "    </tr>\n",
       "    <tr>\n",
       "      <th>26</th>\n",
       "      <td>2015</td>\n",
       "      <td>9</td>\n",
       "      <td>1355279973</td>\n",
       "      <td>2015-09-01</td>\n",
       "    </tr>\n",
       "    <tr>\n",
       "      <th>27</th>\n",
       "      <td>2015</td>\n",
       "      <td>10</td>\n",
       "      <td>1309202793</td>\n",
       "      <td>2015-10-01</td>\n",
       "    </tr>\n",
       "    <tr>\n",
       "      <th>28</th>\n",
       "      <td>2015</td>\n",
       "      <td>11</td>\n",
       "      <td>959620572</td>\n",
       "      <td>2015-11-01</td>\n",
       "    </tr>\n",
       "    <tr>\n",
       "      <th>29</th>\n",
       "      <td>2015</td>\n",
       "      <td>12</td>\n",
       "      <td>760470356</td>\n",
       "      <td>2015-12-01</td>\n",
       "    </tr>\n",
       "    <tr>\n",
       "      <th>30</th>\n",
       "      <td>2016</td>\n",
       "      <td>1</td>\n",
       "      <td>431635840</td>\n",
       "      <td>2016-01-01</td>\n",
       "    </tr>\n",
       "    <tr>\n",
       "      <th>31</th>\n",
       "      <td>2016</td>\n",
       "      <td>2</td>\n",
       "      <td>491939758</td>\n",
       "      <td>2016-02-01</td>\n",
       "    </tr>\n",
       "    <tr>\n",
       "      <th>32</th>\n",
       "      <td>2016</td>\n",
       "      <td>3</td>\n",
       "      <td>938126115</td>\n",
       "      <td>2016-03-01</td>\n",
       "    </tr>\n",
       "    <tr>\n",
       "      <th>33</th>\n",
       "      <td>2016</td>\n",
       "      <td>4</td>\n",
       "      <td>1088476614</td>\n",
       "      <td>2016-04-01</td>\n",
       "    </tr>\n",
       "    <tr>\n",
       "      <th>34</th>\n",
       "      <td>2016</td>\n",
       "      <td>5</td>\n",
       "      <td>1275941737</td>\n",
       "      <td>2016-05-01</td>\n",
       "    </tr>\n",
       "    <tr>\n",
       "      <th>35</th>\n",
       "      <td>2016</td>\n",
       "      <td>6</td>\n",
       "      <td>1445361477</td>\n",
       "      <td>2016-06-01</td>\n",
       "    </tr>\n",
       "    <tr>\n",
       "      <th>36</th>\n",
       "      <td>2016</td>\n",
       "      <td>7</td>\n",
       "      <td>1380562482</td>\n",
       "      <td>2016-07-01</td>\n",
       "    </tr>\n",
       "    <tr>\n",
       "      <th>37</th>\n",
       "      <td>2016</td>\n",
       "      <td>8</td>\n",
       "      <td>1526954828</td>\n",
       "      <td>2016-08-01</td>\n",
       "    </tr>\n",
       "    <tr>\n",
       "      <th>38</th>\n",
       "      <td>2016</td>\n",
       "      <td>9</td>\n",
       "      <td>1562032652</td>\n",
       "      <td>2016-09-01</td>\n",
       "    </tr>\n",
       "  </tbody>\n",
       "</table>\n",
       "</div>"
      ],
      "text/plain": [
       "      yr  mth  trips_total       date\n",
       "0   2013    7    841814103 2013-07-01\n",
       "1   2013    8    981498245 2013-08-01\n",
       "2   2013    9    936116179 2013-09-01\n",
       "3   2013   10    856750338 2013-10-01\n",
       "4   2013   11    521213583 2013-11-01\n",
       "5   2013   12    333806443 2013-12-01\n",
       "6   2014    1    220484271 2014-01-01\n",
       "7   2014    2    196536084 2014-02-01\n",
       "8   2014    3    314213045 2014-03-01\n",
       "9   2014    4    557893275 2014-04-01\n",
       "10  2014    5    762187650 2014-05-01\n",
       "11  2014    6    835921832 2014-06-01\n",
       "12  2014    7    833285556 2014-07-01\n",
       "13  2014    8    852111385 2014-08-01\n",
       "14  2014    9    856989845 2014-09-01\n",
       "15  2014   10    732329152 2014-10-01\n",
       "16  2014   11    418969766 2014-11-01\n",
       "17  2014   12    297608839 2014-12-01\n",
       "18  2015    1    186843979 2015-01-01\n",
       "19  2015    2    127883035 2015-02-01\n",
       "20  2015    3    251008531 2015-03-01\n",
       "21  2015    4    606647337 2015-04-01\n",
       "22  2015    5    962210881 2015-05-01\n",
       "23  2015    6    851429327 2015-06-01\n",
       "24  2015    7   1050576195 2015-07-01\n",
       "25  2015    8   1199652118 2015-08-01\n",
       "26  2015    9   1355279973 2015-09-01\n",
       "27  2015   10   1309202793 2015-10-01\n",
       "28  2015   11    959620572 2015-11-01\n",
       "29  2015   12    760470356 2015-12-01\n",
       "30  2016    1    431635840 2016-01-01\n",
       "31  2016    2    491939758 2016-02-01\n",
       "32  2016    3    938126115 2016-03-01\n",
       "33  2016    4   1088476614 2016-04-01\n",
       "34  2016    5   1275941737 2016-05-01\n",
       "35  2016    6   1445361477 2016-06-01\n",
       "36  2016    7   1380562482 2016-07-01\n",
       "37  2016    8   1526954828 2016-08-01\n",
       "38  2016    9   1562032652 2016-09-01"
      ]
     },
     "execution_count": 33,
     "metadata": {},
     "output_type": "execute_result"
    }
   ],
   "source": [
    "df"
   ]
  },
  {
   "cell_type": "code",
   "execution_count": 24,
   "metadata": {
    "collapsed": true
   },
   "outputs": [],
   "source": [
    "# convert year and month to datetime object\n",
    "df['date'] = df['yr'].apply(str) + '-' + df['mth'].apply(str)"
   ]
  },
  {
   "cell_type": "code",
   "execution_count": 25,
   "metadata": {
    "collapsed": false
   },
   "outputs": [
    {
     "data": {
      "text/plain": [
       "39"
      ]
     },
     "execution_count": 25,
     "metadata": {},
     "output_type": "execute_result"
    }
   ],
   "source": [
    "df.shape[0]"
   ]
  },
  {
   "cell_type": "code",
   "execution_count": 26,
   "metadata": {
    "collapsed": false
   },
   "outputs": [],
   "source": [
    "for i in range(df.shape[0]):\n",
    "    tmp = df['date'].iloc[i]\n",
    "    df['date'].iloc[i] = pd.datetime.strptime(tmp,'%Y-%m')"
   ]
  },
  {
   "cell_type": "code",
   "execution_count": 29,
   "metadata": {
    "collapsed": true
   },
   "outputs": [],
   "source": [
    "df['date'] = df['date'].apply(pd.to_datetime)"
   ]
  },
  {
   "cell_type": "code",
   "execution_count": 30,
   "metadata": {
    "collapsed": false,
    "scrolled": true
   },
   "outputs": [
    {
     "name": "stdout",
     "output_type": "stream",
     "text": [
      "<class 'pandas.core.frame.DataFrame'>\n",
      "RangeIndex: 39 entries, 0 to 38\n",
      "Data columns (total 4 columns):\n",
      "yr             39 non-null int64\n",
      "mth            39 non-null int64\n",
      "trips_total    39 non-null int64\n",
      "date           39 non-null datetime64[ns]\n",
      "dtypes: datetime64[ns](1), int64(3)\n",
      "memory usage: 1.3 KB\n"
     ]
    }
   ],
   "source": [
    "df.info()"
   ]
  },
  {
   "cell_type": "code",
   "execution_count": null,
   "metadata": {
    "collapsed": true
   },
   "outputs": [],
   "source": []
  },
  {
   "cell_type": "markdown",
   "metadata": {},
   "source": [
    "## Additional data"
   ]
  },
  {
   "cell_type": "markdown",
   "metadata": {},
   "source": [
    "The data above only go until September 2016. Add Data for Oct-Dec 2016. Taken from the citibike website"
   ]
  },
  {
   "cell_type": "code",
   "execution_count": 35,
   "metadata": {
    "collapsed": false
   },
   "outputs": [
    {
     "data": {
      "text/html": [
       "<div>\n",
       "<table border=\"1\" class=\"dataframe\">\n",
       "  <thead>\n",
       "    <tr style=\"text-align: right;\">\n",
       "      <th></th>\n",
       "      <th>Date</th>\n",
       "      <th>Trips over the past 24-hours (midnight to 11:59pm)</th>\n",
       "      <th>Cumulative trips (since launch):</th>\n",
       "      <th>Miles traveled today (midnight to 11:59 pm)</th>\n",
       "      <th>Miles traveled to date:</th>\n",
       "      <th>Total Annual Members (All Time)</th>\n",
       "      <th>24-Hour Passes Purchased (midnight to 11:59 pm)</th>\n",
       "      <th>3-Day Passes Purchased (midnight to 11:59 pm)</th>\n",
       "    </tr>\n",
       "  </thead>\n",
       "  <tbody>\n",
       "    <tr>\n",
       "      <th>0</th>\n",
       "      <td>10/1/2016</td>\n",
       "      <td>39809</td>\n",
       "      <td>34,659,659</td>\n",
       "      <td>91771</td>\n",
       "      <td>67,278,343</td>\n",
       "      <td>200544</td>\n",
       "      <td>2017</td>\n",
       "      <td>133</td>\n",
       "    </tr>\n",
       "    <tr>\n",
       "      <th>1</th>\n",
       "      <td>10/2/2016</td>\n",
       "      <td>41018</td>\n",
       "      <td>34,700,677</td>\n",
       "      <td>100425</td>\n",
       "      <td>67,378,768</td>\n",
       "      <td>200664</td>\n",
       "      <td>2147</td>\n",
       "      <td>119</td>\n",
       "    </tr>\n",
       "    <tr>\n",
       "      <th>2</th>\n",
       "      <td>10/3/2016</td>\n",
       "      <td>56369</td>\n",
       "      <td>34,757,046</td>\n",
       "      <td>116682</td>\n",
       "      <td>67,495,450</td>\n",
       "      <td>200829</td>\n",
       "      <td>1514</td>\n",
       "      <td>183</td>\n",
       "    </tr>\n",
       "    <tr>\n",
       "      <th>3</th>\n",
       "      <td>10/4/2016</td>\n",
       "      <td>60196</td>\n",
       "      <td>34,817,242</td>\n",
       "      <td>123551</td>\n",
       "      <td>67,619,001</td>\n",
       "      <td>200954</td>\n",
       "      <td>1035</td>\n",
       "      <td>144</td>\n",
       "    </tr>\n",
       "    <tr>\n",
       "      <th>4</th>\n",
       "      <td>10/5/2016</td>\n",
       "      <td>65031</td>\n",
       "      <td>34,882,273</td>\n",
       "      <td>126942</td>\n",
       "      <td>67,745,943</td>\n",
       "      <td>201115</td>\n",
       "      <td>1240</td>\n",
       "      <td>160</td>\n",
       "    </tr>\n",
       "  </tbody>\n",
       "</table>\n",
       "</div>"
      ],
      "text/plain": [
       "        Date  Trips over the past 24-hours (midnight to 11:59pm)  \\\n",
       "0  10/1/2016                                              39809    \n",
       "1  10/2/2016                                              41018    \n",
       "2  10/3/2016                                              56369    \n",
       "3  10/4/2016                                              60196    \n",
       "4  10/5/2016                                              65031    \n",
       "\n",
       "  Cumulative trips (since launch):  \\\n",
       "0                       34,659,659   \n",
       "1                       34,700,677   \n",
       "2                       34,757,046   \n",
       "3                       34,817,242   \n",
       "4                       34,882,273   \n",
       "\n",
       "   Miles traveled today (midnight to 11:59 pm) Miles traveled to date:  \\\n",
       "0                                        91771              67,278,343   \n",
       "1                                       100425              67,378,768   \n",
       "2                                       116682              67,495,450   \n",
       "3                                       123551              67,619,001   \n",
       "4                                       126942              67,745,943   \n",
       "\n",
       "   Total Annual Members (All Time)  \\\n",
       "0                           200544   \n",
       "1                           200664   \n",
       "2                           200829   \n",
       "3                           200954   \n",
       "4                           201115   \n",
       "\n",
       "   24-Hour Passes Purchased (midnight to 11:59 pm)  \\\n",
       "0                                             2017   \n",
       "1                                             2147   \n",
       "2                                             1514   \n",
       "3                                             1035   \n",
       "4                                             1240   \n",
       "\n",
       "   3-Day Passes Purchased (midnight to 11:59 pm)  \n",
       "0                                            133  \n",
       "1                                            119  \n",
       "2                                            183  \n",
       "3                                            144  \n",
       "4                                            160  "
      ]
     },
     "execution_count": 35,
     "metadata": {},
     "output_type": "execute_result"
    }
   ],
   "source": [
    "df_add = pd.read_csv(os.path.join(data_dir,'data-gRmSF.csv'))\n",
    "df_add.head()"
   ]
  },
  {
   "cell_type": "code",
   "execution_count": null,
   "metadata": {
    "collapsed": true
   },
   "outputs": [],
   "source": []
  },
  {
   "cell_type": "markdown",
   "metadata": {},
   "source": [
    "## Plot timeline"
   ]
  },
  {
   "cell_type": "code",
   "execution_count": 36,
   "metadata": {
    "collapsed": false
   },
   "outputs": [
    {
     "data": {
      "text/plain": [
       "[<matplotlib.lines.Line2D at 0x115c2c310>]"
      ]
     },
     "execution_count": 36,
     "metadata": {},
     "output_type": "execute_result"
    },
    {
     "data": {
      "image/png": "[encoded data removed]",
      "text/plain": [
       "<matplotlib.figure.Figure at 0x115bdf2d0>"
      ]
     },
     "metadata": {},
     "output_type": "display_data"
    }
   ],
   "source": [
    "dates = df['date'].tolist()\n",
    "trips = df['trips_total'].tolist()\n",
    "fig, ax = plt.subplots(figsize=(15, 10))\n",
    "plt.plot(dates,trips)"
   ]
  },
  {
   "cell_type": "code",
   "execution_count": null,
   "metadata": {
    "collapsed": true
   },
   "outputs": [],
   "source": []
  }
 ],
 "metadata": {
  "kernelspec": {
   "display_name": "Python 2",
   "language": "python",
   "name": "python2"
  },
  "language_info": {
   "codemirror_mode": {
    "name": "ipython",
    "version": 2
   },
   "file_extension": ".py",
   "mimetype": "text/x-python",
   "name": "python",
   "nbconvert_exporter": "python",
   "pygments_lexer": "ipython2",
   "version": "2.7.13"
  }
 },
 "nbformat": 4,
 "nbformat_minor": 0
}
