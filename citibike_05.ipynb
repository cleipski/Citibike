{
 "cells": [
  {
   "cell_type": "code",
   "execution_count": 1,
   "metadata": {
    "collapsed": true
   },
   "outputs": [],
   "source": [
    "from __future__ import absolute_import, division, print_function"
   ]
  },
  {
   "cell_type": "markdown",
   "metadata": {},
   "source": [
    "# Demographic study"
   ]
  },
  {
   "cell_type": "markdown",
   "metadata": {},
   "source": [
    "## Preliminaries"
   ]
  },
  {
   "cell_type": "markdown",
   "metadata": {},
   "source": [
    "The trip data set has a column for information on gender and age. This information is extremely sparse for 'Customer' type users (2% in 2016 and 0% in 2015). For the 'Subscriber'-type user the information is fairly complete (~99%).  "
   ]
  },
  {
   "cell_type": "markdown",
   "metadata": {},
   "source": [
    "## Imports"
   ]
  },
  {
   "cell_type": "code",
   "execution_count": 2,
   "metadata": {
    "collapsed": true
   },
   "outputs": [],
   "source": [
    "import datetime\n",
    "import os\n",
    "import sys\n",
    "import subprocess\n",
    "import glob\n",
    "\n",
    "import numpy as np\n",
    "import pandas as pd\n",
    "\n",
    "import matplotlib as mpl\n",
    "import matplotlib.pyplot as plt\n",
    "import matplotlib.dates as mdates\n",
    "import matplotlib.lines as mlines\n",
    "import matplotlib.patches as mpatches\n",
    "\n",
    "\n",
    "%matplotlib inline"
   ]
  },
  {
   "cell_type": "code",
   "execution_count": 3,
   "metadata": {
    "collapsed": true
   },
   "outputs": [],
   "source": [
    "# https://github.com/tinybike/weightedstats\n",
    "# \n",
    "def weighted_median(data, weights=None):\n",
    "    \"\"\"Calculate the weighted median of a list.\"\"\"\n",
    "    if weights is None:\n",
    "        return median(data)\n",
    "    midpoint = 0.5 * sum(weights)\n",
    "    if any([j > midpoint for j in weights]):\n",
    "        return data[weights.index(max(weights))]\n",
    "    if any([j > 0 for j in weights]):\n",
    "        sorted_data, sorted_weights = zip(*sorted(zip(data, weights)))\n",
    "        cumulative_weight = 0\n",
    "        below_midpoint_index = 0\n",
    "        while cumulative_weight <= midpoint:\n",
    "            below_midpoint_index += 1\n",
    "            cumulative_weight += sorted_weights[below_midpoint_index-1]\n",
    "        cumulative_weight -= sorted_weights[below_midpoint_index-1]\n",
    "        if cumulative_weight - midpoint < sys.float_info.epsilon:\n",
    "            bounds = sorted_data[below_midpoint_index-2:below_midpoint_index]\n",
    "            return sum(bounds) / float(len(bounds))\n",
    "        return sorted_data[below_midpoint_index-1]\n",
    "    \n"
   ]
  },
  {
   "cell_type": "code",
   "execution_count": 4,
   "metadata": {
    "collapsed": true
   },
   "outputs": [],
   "source": [
    "# https://github.com/nudomarinero/wquantiles/\n",
    "def quantile_1D(data, weights, quantile):\n",
    "    \"\"\"\n",
    "    Compute the weighted quantile of a 1D numpy array.\n",
    "    Parameters\n",
    "    ----------\n",
    "    data : ndarray\n",
    "        Input array (one dimension).\n",
    "    weights : ndarray\n",
    "        Array with the weights of the same size of `data`.\n",
    "    quantile : float\n",
    "        Quantile to compute. It must have a value between 0 and 1.\n",
    "    Returns\n",
    "    -------\n",
    "    quantile_1D : float\n",
    "        The output value.\n",
    "    \"\"\"\n",
    "    # Check the data\n",
    "    if not isinstance(data, np.matrix):\n",
    "        data = np.asarray(data)\n",
    "    if not isinstance(weights, np.matrix):\n",
    "        weights = np.asarray(weights)\n",
    "    nd = data.ndim\n",
    "    if nd != 1:\n",
    "        raise TypeError(\"data must be a one dimensional array\")\n",
    "    ndw = weights.ndim\n",
    "    if ndw != 1:\n",
    "        raise TypeError(\"weights must be a one dimensional array\")\n",
    "    if data.shape != weights.shape:\n",
    "        raise TypeError(\"the length of data and weights must be the same\")\n",
    "    if ((quantile > 1.) or (quantile < 0.)):\n",
    "        raise ValueError(\"quantile must have a value between 0. and 1.\")\n",
    "    # Sort the data\n",
    "    ind_sorted = np.argsort(data)\n",
    "    sorted_data = data[ind_sorted]\n",
    "    sorted_weights = weights[ind_sorted]\n",
    "    # Compute the auxiliary arrays\n",
    "    Sn = np.cumsum(sorted_weights)\n",
    "    # TODO: Check that the weights do not sum zero\n",
    "    #assert Sn != 0, \"The sum of the weights must not be zero\"\n",
    "    Pn = (Sn-0.5*sorted_weights)/np.sum(sorted_weights)\n",
    "    # Get the value of the weighted median\n",
    "    return np.interp(quantile, Pn, sorted_data)\n",
    "\n",
    "\n",
    "def quantile(data, weights, quantile):\n",
    "    \"\"\"\n",
    "    Weighted quantile of an array with respect to the last axis.\n",
    "    Parameters\n",
    "    ----------\n",
    "    data : ndarray\n",
    "        Input array.\n",
    "    weights : ndarray\n",
    "        Array with the weights. It must have the same size of the last \n",
    "        axis of `data`.\n",
    "    quantile : float\n",
    "        Quantile to compute. It must have a value between 0 and 1.\n",
    "    Returns\n",
    "    -------\n",
    "    quantile : float\n",
    "        The output value.\n",
    "    \"\"\"\n",
    "    # TODO: Allow to specify the axis\n",
    "    nd = data.ndim\n",
    "    if nd == 0:\n",
    "        TypeError(\"data must have at least one dimension\")\n",
    "    elif nd == 1:\n",
    "        return quantile_1D(data, weights, quantile)\n",
    "    elif nd > 1:\n",
    "        n = data.shape\n",
    "        imr = data.reshape((np.prod(n[:-1]), n[-1]))\n",
    "        result = np.apply_along_axis(quantile_1D, -1, imr, weights, quantile)\n",
    "        return result.reshape(n[:-1])\n",
    "\n",
    "\n",
    "def median(data, weights):\n",
    "    \"\"\"\n",
    "    Weighted median of an array with respect to the last axis.\n",
    "    Alias for `quantile(data, weights, 0.5)`.\n",
    "    \"\"\"\n",
    "    return quantile(data, weights, 0.5)"
   ]
  },
  {
   "cell_type": "markdown",
   "metadata": {},
   "source": [
    "## Data"
   ]
  },
  {
   "cell_type": "code",
   "execution_count": 5,
   "metadata": {
    "collapsed": true
   },
   "outputs": [],
   "source": [
    "data_dir = os.path.join(os.getcwd(),'..','..','data')"
   ]
  },
  {
   "cell_type": "code",
   "execution_count": 6,
   "metadata": {
    "collapsed": true
   },
   "outputs": [],
   "source": [
    "df_2015 = pd.read_csv(os.path.join(data_dir,'subscriber_age_histogram_2015.csv'))\n",
    "df_2016 = pd.read_csv(os.path.join(data_dir,'subscriber_age_histogram_2016.csv'))"
   ]
  },
  {
   "cell_type": "code",
   "execution_count": 7,
   "metadata": {
    "collapsed": false
   },
   "outputs": [
    {
     "data": {
      "text/html": [
       "<div>\n",
       "<table border=\"1\" class=\"dataframe\">\n",
       "  <thead>\n",
       "    <tr style=\"text-align: right;\">\n",
       "      <th></th>\n",
       "      <th>age</th>\n",
       "      <th>c</th>\n",
       "      <th>num_males</th>\n",
       "      <th>num_females</th>\n",
       "    </tr>\n",
       "  </thead>\n",
       "  <tbody>\n",
       "    <tr>\n",
       "      <th>0</th>\n",
       "      <td>17</td>\n",
       "      <td>4199</td>\n",
       "      <td>3430</td>\n",
       "      <td>769</td>\n",
       "    </tr>\n",
       "    <tr>\n",
       "      <th>1</th>\n",
       "      <td>18</td>\n",
       "      <td>13454</td>\n",
       "      <td>11133</td>\n",
       "      <td>2321</td>\n",
       "    </tr>\n",
       "    <tr>\n",
       "      <th>2</th>\n",
       "      <td>19</td>\n",
       "      <td>17430</td>\n",
       "      <td>13795</td>\n",
       "      <td>3628</td>\n",
       "    </tr>\n",
       "    <tr>\n",
       "      <th>3</th>\n",
       "      <td>20</td>\n",
       "      <td>31769</td>\n",
       "      <td>22943</td>\n",
       "      <td>8376</td>\n",
       "    </tr>\n",
       "    <tr>\n",
       "      <th>4</th>\n",
       "      <td>21</td>\n",
       "      <td>43858</td>\n",
       "      <td>34218</td>\n",
       "      <td>9640</td>\n",
       "    </tr>\n",
       "  </tbody>\n",
       "</table>\n",
       "</div>"
      ],
      "text/plain": [
       "   age      c  num_males  num_females\n",
       "0   17   4199       3430          769\n",
       "1   18  13454      11133         2321\n",
       "2   19  17430      13795         3628\n",
       "3   20  31769      22943         8376\n",
       "4   21  43858      34218         9640"
      ]
     },
     "execution_count": 7,
     "metadata": {},
     "output_type": "execute_result"
    }
   ],
   "source": [
    "df_2015.head()"
   ]
  },
  {
   "cell_type": "code",
   "execution_count": 8,
   "metadata": {
    "collapsed": false
   },
   "outputs": [],
   "source": [
    "# Total number of rides taken by female customers in 2016\n",
    "N_rides_female_2016 = df_2016['num_females'].sum()"
   ]
  },
  {
   "cell_type": "code",
   "execution_count": 9,
   "metadata": {
    "collapsed": false
   },
   "outputs": [
    {
     "name": "stdout",
     "output_type": "stream",
     "text": [
      "26425.0\n"
     ]
    }
   ],
   "source": [
    "# Total number of female customers in 2016\n",
    "# In 2016, each subscriber took on average 112 rides (see citibike_02.ipynb)\n",
    "N_female_2016 = round(N_rides_female_2016 / 112.)\n",
    "print(N_female_2016)"
   ]
  },
  {
   "cell_type": "code",
   "execution_count": null,
   "metadata": {
    "collapsed": true
   },
   "outputs": [],
   "source": []
  },
  {
   "cell_type": "markdown",
   "metadata": {},
   "source": [
    "## Compare male and female cohort growth for 2015 and 2016"
   ]
  },
  {
   "cell_type": "code",
   "execution_count": 10,
   "metadata": {
    "collapsed": false
   },
   "outputs": [
    {
     "data": {
      "image/png": "[encoded data removed]",
      "text/plain": [
       "<matplotlib.figure.Figure at 0x1161ac250>"
      ]
     },
     "metadata": {},
     "output_type": "display_data"
    }
   ],
   "source": [
    "fig, ax = plt.subplots(1,2,figsize=(20, 10))\n",
    "# Male\n",
    "age = (df_2015['age'][df_2015['age'] < 90],df_2016['age'][df_2016['age'] < 90])\n",
    "male = (df_2015['num_males'][df_2015['age'] < 90],df_2016['num_males'][df_2016['age'] < 90])\n",
    "# the width of the bars\n",
    "width = 0.8       \n",
    "rects1 = ax[0].bar(age[1], [x/1e3 for x in male[1]], width, color='r', label='2016')\n",
    "rects1 = ax[0].bar(age[0], [x/1e3 for x in male[0]], width, color='g', label='2015')\n",
    "ax[0].set_title('Male annual subscribers', fontsize=18)\n",
    "ax[0].set_xlabel('Age', fontsize=18)\n",
    "ax[0].set_ylabel('# rides (x 1000)', fontsize=18, labelpad=20)\n",
    "ax[0].legend(prop={'size': 20})\n",
    "# Hide the right and top spines\n",
    "ax[0].spines['right'].set_visible(False)\n",
    "ax[0].spines['top'].set_visible(False)\n",
    "# Set witdh of axes spines and ticks\n",
    "ax[0].spines['left'].set_linewidth(2)\n",
    "ax[0].spines['bottom'].set_linewidth(2)\n",
    "ax[0].xaxis.set_tick_params(width=2)\n",
    "ax[0].yaxis.set_tick_params(width=2)\n",
    "# Only show ticks on the left and bottom spines\n",
    "ax[0].yaxis.set_ticks_position('left')\n",
    "ax[0].xaxis.set_ticks_position('bottom')\n",
    "ax[0].tick_params(labelsize=18)\n",
    "ax[0].set_xlim(10,80)\n",
    "#\n",
    "# Female\n",
    "age = (df_2015['age'][df_2015['age'] < 90],df_2016['age'][df_2016['age'] < 90])\n",
    "male = (df_2015['num_females'][df_2015['age'] < 90],df_2016['num_females'][df_2016['age'] < 90])\n",
    "# the width of the bars\n",
    "width = 0.8       \n",
    "rects1 = ax[1].bar(age[1], [x/1e3 for x in male[1]], width, color='r', label='2016')\n",
    "rects1 = ax[1].bar(age[0], [x/1e3 for x in male[0]], width, color='g', label='2015')\n",
    "ax[1].set_title('Female annual subscribers', fontsize=18)\n",
    "ax[1].set_xlabel('Age', fontsize=18)\n",
    "ax[1].set_ylabel('# rides (x 1000)', fontsize=18, labelpad=20)\n",
    "ax[1].legend(prop={'size': 20})\n",
    "# Hide the right and top spines\n",
    "ax[1].spines['right'].set_visible(False)\n",
    "ax[1].spines['top'].set_visible(False)\n",
    "# Set witdh of axes spines and ticks\n",
    "ax[1].spines['left'].set_linewidth(2)\n",
    "ax[1].spines['bottom'].set_linewidth(2)\n",
    "ax[1].xaxis.set_tick_params(width=2)\n",
    "ax[1].yaxis.set_tick_params(width=2)\n",
    "# Only show ticks on the left and bottom spines\n",
    "ax[1].yaxis.set_ticks_position('left')\n",
    "ax[1].xaxis.set_ticks_position('bottom')\n",
    "ax[1].tick_params(labelsize=18)\n",
    "ax[1].set_xlim(10,80)\n",
    "ax[1].set_ylim(0,400)\n",
    "#\n",
    "plt.savefig(os.path.join(data_dir,'plots','subscriber_demographics_2015_2016.pdf'), bbox_inches='tight')\n"
   ]
  },
  {
   "cell_type": "code",
   "execution_count": 11,
   "metadata": {
    "collapsed": false
   },
   "outputs": [
    {
     "data": {
      "text/plain": [
       "(0, 400)"
      ]
     },
     "execution_count": 11,
     "metadata": {},
     "output_type": "execute_result"
    },
    {
     "data": {
      "image/png": "[encoded data removed]",
      "text/plain": [
       "<matplotlib.figure.Figure at 0x1161a6150>"
      ]
     },
     "metadata": {},
     "output_type": "display_data"
    }
   ],
   "source": [
    "# Same as above but in a different style/color\n",
    "fig, ax = plt.subplots(1,2,figsize=(20, 10))\n",
    "# Male\n",
    "age = (df_2015['age'][df_2015['age'] < 90],df_2016['age'][df_2016['age'] < 90])\n",
    "male = (df_2015['num_males'][df_2015['age'] < 90],df_2016['num_males'][df_2016['age'] < 90])\n",
    "# the width of the bars\n",
    "width = 0.8       \n",
    "ax[0].fill_between(age[1], 0, [x/1e3 for x in male[1]], step='mid', color='b', alpha=0.2)\n",
    "rects1 = ax[0].step(age[1], [x/1e3 for x in male[1]], where='mid', color='b', label='2016', lw=3)\n",
    "ax[0].fill_between(age[0], 0, [x/1e3 for x in male[0]], step='mid', color='g', alpha=0.2)\n",
    "rects1 = ax[0].step(age[0], [x/1e3 for x in male[0]], where='mid', color='g', label='2015', lw=3)\n",
    "#\n",
    "ax[0].set_title('Male annual subscribers', fontsize=18)\n",
    "ax[0].set_xlabel('Age', fontsize=18)\n",
    "ax[0].set_ylabel('# rides (x 1000)', fontsize=18, labelpad=20)\n",
    "green_patch = mpatches.Patch(label='2015', alpha=0.4, edgecolor='g', facecolor='g', lw=3)\n",
    "blue_patch = mpatches.Patch(label='2016', alpha=0.4, edgecolor='b', facecolor='b', lw=3)\n",
    "ax[0].legend(handles=[green_patch,blue_patch], prop={'size': 20})\n",
    "# Hide the right and top spines\n",
    "ax[0].spines['right'].set_visible(False)\n",
    "ax[0].spines['top'].set_visible(False)\n",
    "# Set witdh of axes spines and ticks\n",
    "ax[0].spines['left'].set_linewidth(2)\n",
    "ax[0].spines['bottom'].set_linewidth(2)\n",
    "ax[0].xaxis.set_tick_params(width=2)\n",
    "ax[0].yaxis.set_tick_params(width=2)\n",
    "# Only show ticks on the left and bottom spines\n",
    "ax[0].yaxis.set_ticks_position('left')\n",
    "ax[0].xaxis.set_ticks_position('bottom')\n",
    "ax[0].tick_params(labelsize=18)\n",
    "ax[0].set_xlim(10,80)\n",
    "#\n",
    "# Female\n",
    "age = (df_2015['age'][df_2015['age'] < 90],df_2016['age'][df_2016['age'] < 90])\n",
    "male = (df_2015['num_females'][df_2015['age'] < 90],df_2016['num_females'][df_2016['age'] < 90])\n",
    "# the width of the bars\n",
    "width = 0.8       \n",
    "ax[1].fill_between(age[1], 0, [x/1e3 for x in male[1]], step='mid', color='b',label='2016', alpha=0.2)\n",
    "rects1 = ax[1].step(age[1], [x/1e3 for x in male[1]], where='mid', color='b',  lw=3)\n",
    "ax[1].fill_between(age[0], 0, [x/1e3 for x in male[0]], step='mid', color='g',label='2015', alpha=0.2)\n",
    "rects1 = ax[1].step(age[0], [x/1e3 for x in male[0]], where='mid', color='g',  lw=3)\n",
    "\n",
    "\n",
    "ax[1].set_title('Female annual subscribers', fontsize=18)\n",
    "ax[1].set_xlabel('Age', fontsize=18)\n",
    "ax[1].set_ylabel('# rides (x 1000)', fontsize=18, labelpad=20)\n",
    "green_patch = mpatches.Patch(label='2015', alpha=0.4, edgecolor='g', facecolor='g', lw=3)\n",
    "blue_patch = mpatches.Patch(label='2016', alpha=0.4, edgecolor='b', facecolor='b', lw=3)\n",
    "ax[1].legend(handles=[green_patch,blue_patch], prop={'size': 20})\n",
    "\n",
    "# Hide the right and top spines\n",
    "ax[1].spines['right'].set_visible(False)\n",
    "ax[1].spines['top'].set_visible(False)\n",
    "# Set witdh of axes spines and ticks\n",
    "ax[1].spines['left'].set_linewidth(2)\n",
    "ax[1].spines['bottom'].set_linewidth(2)\n",
    "ax[1].xaxis.set_tick_params(width=2)\n",
    "ax[1].yaxis.set_tick_params(width=2)\n",
    "# Only show ticks on the left and bottom spines\n",
    "ax[1].yaxis.set_ticks_position('left')\n",
    "ax[1].xaxis.set_ticks_position('bottom')\n",
    "ax[1].tick_params(labelsize=18)\n",
    "ax[1].set_xlim(10,80)\n",
    "ax[1].set_ylim(0,400)\n",
    "#\n",
    "# plt.savefig(os.path.join(data_dir,'plots','subscriber_demographics_2015_2016.pdf'), bbox_inches='tight')\n",
    "\n"
   ]
  },
  {
   "cell_type": "code",
   "execution_count": null,
   "metadata": {
    "collapsed": true
   },
   "outputs": [],
   "source": []
  },
  {
   "cell_type": "code",
   "execution_count": null,
   "metadata": {
    "collapsed": true
   },
   "outputs": [],
   "source": []
  },
  {
   "cell_type": "markdown",
   "metadata": {},
   "source": [
    "## Compare new data with original data"
   ]
  },
  {
   "cell_type": "markdown",
   "metadata": {},
   "source": [
    "Reacreate histogram shown at https://cloud.google.com/blog/big-data/2016/12/analyzing-nyc-biking-data-with-google-bigquery "
   ]
  },
  {
   "cell_type": "code",
   "execution_count": 12,
   "metadata": {
    "collapsed": true
   },
   "outputs": [],
   "source": [
    "df_tmp = pd.read_csv(os.path.join(data_dir,'gender_age_histogram.csv'))"
   ]
  },
  {
   "cell_type": "code",
   "execution_count": 13,
   "metadata": {
    "collapsed": false
   },
   "outputs": [
    {
     "data": {
      "text/html": [
       "<div>\n",
       "<table border=\"1\" class=\"dataframe\">\n",
       "  <thead>\n",
       "    <tr style=\"text-align: right;\">\n",
       "      <th></th>\n",
       "      <th>age</th>\n",
       "      <th>c</th>\n",
       "      <th>num_males</th>\n",
       "      <th>num_females</th>\n",
       "    </tr>\n",
       "  </thead>\n",
       "  <tbody>\n",
       "    <tr>\n",
       "      <th>0</th>\n",
       "      <td>31</td>\n",
       "      <td>1311169</td>\n",
       "      <td>948942</td>\n",
       "      <td>359984</td>\n",
       "    </tr>\n",
       "    <tr>\n",
       "      <th>1</th>\n",
       "      <td>32</td>\n",
       "      <td>1275647</td>\n",
       "      <td>951459</td>\n",
       "      <td>321949</td>\n",
       "    </tr>\n",
       "    <tr>\n",
       "      <th>2</th>\n",
       "      <td>33</td>\n",
       "      <td>1261772</td>\n",
       "      <td>942443</td>\n",
       "      <td>317718</td>\n",
       "    </tr>\n",
       "    <tr>\n",
       "      <th>3</th>\n",
       "      <td>30</td>\n",
       "      <td>1249087</td>\n",
       "      <td>892019</td>\n",
       "      <td>356424</td>\n",
       "    </tr>\n",
       "    <tr>\n",
       "      <th>4</th>\n",
       "      <td>29</td>\n",
       "      <td>1194270</td>\n",
       "      <td>858725</td>\n",
       "      <td>335029</td>\n",
       "    </tr>\n",
       "  </tbody>\n",
       "</table>\n",
       "</div>"
      ],
      "text/plain": [
       "   age        c  num_males  num_females\n",
       "0   31  1311169     948942       359984\n",
       "1   32  1275647     951459       321949\n",
       "2   33  1261772     942443       317718\n",
       "3   30  1249087     892019       356424\n",
       "4   29  1194270     858725       335029"
      ]
     },
     "execution_count": 13,
     "metadata": {},
     "output_type": "execute_result"
    }
   ],
   "source": [
    "df_tmp.head()"
   ]
  },
  {
   "cell_type": "code",
   "execution_count": 14,
   "metadata": {
    "collapsed": false
   },
   "outputs": [
    {
     "data": {
      "text/plain": [
       "(10, 80)"
      ]
     },
     "execution_count": 14,
     "metadata": {},
     "output_type": "execute_result"
    },
    {
     "data": {
      "image/png": "[encoded data removed]",
      "text/plain": [
       "<matplotlib.figure.Figure at 0x116eb8490>"
      ]
     },
     "metadata": {},
     "output_type": "display_data"
    }
   ],
   "source": [
    "fig, ax = plt.subplots(figsize=(10, 10))\n",
    "# Male\n",
    "age = df_tmp['age'][df_tmp['age'] < 90]\n",
    "male = df_tmp['num_males'][df_tmp['age'] < 90]\n",
    "female = df_tmp['num_females'][df_tmp['age'] < 90]\n",
    "# the width of the bars\n",
    "width = 0.8       \n",
    "rects1 = ax.bar(age, male, width, color='r', label='Male')\n",
    "rects1 = ax.bar(age, female, width, color='g', label='Female')\n",
    "ax.set_title('Male annual subscribers', fontsize=18)\n",
    "ax.set_xlabel('Age', fontsize=18)\n",
    "ax.set_ylabel('# rides (x 1000)', fontsize=18, labelpad=20)\n",
    "ax.legend(prop={'size': 20})\n",
    "# Hide the right and top spines\n",
    "ax.spines['right'].set_visible(False)\n",
    "ax.spines['top'].set_visible(False)\n",
    "# Set witdh of axes spines and ticks\n",
    "ax.spines['left'].set_linewidth(2)\n",
    "ax.spines['bottom'].set_linewidth(2)\n",
    "ax.xaxis.set_tick_params(width=2)\n",
    "ax.yaxis.set_tick_params(width=2)\n",
    "# Only show ticks on the left and bottom spines\n",
    "ax.yaxis.set_ticks_position('left')\n",
    "ax.xaxis.set_ticks_position('bottom')\n",
    "ax.tick_params(labelsize=18)\n",
    "ax.set_xlim(10,80)\n",
    "#\n",
    "\n"
   ]
  },
  {
   "cell_type": "markdown",
   "metadata": {},
   "source": [
    "This looks quite different from the plot on the website linked above."
   ]
  },
  {
   "cell_type": "code",
   "execution_count": 15,
   "metadata": {
    "collapsed": true
   },
   "outputs": [],
   "source": [
    "df_tmp = pd.read_csv(os.path.join(data_dir,'gender_age_histogram_google.csv'))"
   ]
  },
  {
   "cell_type": "code",
   "execution_count": null,
   "metadata": {
    "collapsed": false
   },
   "outputs": [
    {
     "data": {
      "text/html": [
       "<div>\n",
       "<table border=\"1\" class=\"dataframe\">\n",
       "  <thead>\n",
       "    <tr style=\"text-align: right;\">\n",
       "      <th></th>\n",
       "      <th>age</th>\n",
       "      <th>c</th>\n",
       "      <th>num_males</th>\n",
       "      <th>num_females</th>\n",
       "    </tr>\n",
       "  </thead>\n",
       "  <tbody>\n",
       "    <tr>\n",
       "      <th>0</th>\n",
       "      <td>31</td>\n",
       "      <td>1240336</td>\n",
       "      <td>898453</td>\n",
       "      <td>340179</td>\n",
       "    </tr>\n",
       "    <tr>\n",
       "      <th>1</th>\n",
       "      <td>32</td>\n",
       "      <td>1215430</td>\n",
       "      <td>907695</td>\n",
       "      <td>306279</td>\n",
       "    </tr>\n",
       "    <tr>\n",
       "      <th>2</th>\n",
       "      <td>33</td>\n",
       "      <td>1207236</td>\n",
       "      <td>903267</td>\n",
       "      <td>302756</td>\n",
       "    </tr>\n",
       "    <tr>\n",
       "      <th>3</th>\n",
       "      <td>30</td>\n",
       "      <td>1176419</td>\n",
       "      <td>841542</td>\n",
       "      <td>334341</td>\n",
       "    </tr>\n",
       "    <tr>\n",
       "      <th>4</th>\n",
       "      <td>29</td>\n",
       "      <td>1122408</td>\n",
       "      <td>809837</td>\n",
       "      <td>312188</td>\n",
       "    </tr>\n",
       "  </tbody>\n",
       "</table>\n",
       "</div>"
      ],
      "text/plain": [
       "   age        c  num_males  num_females\n",
       "0   31  1240336     898453       340179\n",
       "1   32  1215430     907695       306279\n",
       "2   33  1207236     903267       302756\n",
       "3   30  1176419     841542       334341\n",
       "4   29  1122408     809837       312188"
      ]
     },
     "execution_count": 16,
     "metadata": {},
     "output_type": "execute_result"
    }
   ],
   "source": [
    "df_tmp.head()"
   ]
  },
  {
   "cell_type": "code",
   "execution_count": null,
   "metadata": {
    "collapsed": false
   },
   "outputs": [
    {
     "data": {
      "text/plain": [
       "(10, 80)"
      ]
     },
     "execution_count": 17,
     "metadata": {},
     "output_type": "execute_result"
    }
   ],
   "source": [
    "fig, ax = plt.subplots(figsize=(10, 10))\n",
    "# Male\n",
    "age = df_tmp['age'][df_tmp['age'] < 90]\n",
    "male = df_tmp['num_males'][df_tmp['age'] < 90]\n",
    "female = df_tmp['num_females'][df_tmp['age'] < 90]\n",
    "# the width of the bars\n",
    "width = 0.8       \n",
    "rects1 = ax.bar(age, male, width, color='r', label='Male')\n",
    "rects1 = ax.bar(age, female, width, color='g', label='Female')\n",
    "ax.set_title('Male annual subscribers', fontsize=18)\n",
    "ax.set_xlabel('Age', fontsize=18)\n",
    "ax.set_ylabel('# rides (x 1000)', fontsize=18, labelpad=20)\n",
    "ax.legend(prop={'size': 20})\n",
    "# Hide the right and top spines\n",
    "ax.spines['right'].set_visible(False)\n",
    "ax.spines['top'].set_visible(False)\n",
    "# Set witdh of axes spines and ticks\n",
    "ax.spines['left'].set_linewidth(2)\n",
    "ax.spines['bottom'].set_linewidth(2)\n",
    "ax.xaxis.set_tick_params(width=2)\n",
    "ax.yaxis.set_tick_params(width=2)\n",
    "# Only show ticks on the left and bottom spines\n",
    "ax.yaxis.set_ticks_position('left')\n",
    "ax.xaxis.set_ticks_position('bottom')\n",
    "ax.tick_params(labelsize=18)\n",
    "ax.set_xlim(10,80)\n",
    "#"
   ]
  },
  {
   "cell_type": "markdown",
   "metadata": {},
   "source": [
    "Even with the data taken from the google bigquery site it looks very different."
   ]
  },
  {
   "cell_type": "code",
   "execution_count": null,
   "metadata": {
    "collapsed": true
   },
   "outputs": [],
   "source": [
    "# Now let's try the original data from\n",
    "# https://exploratory.io/viz/7285328289418862/2952058795271396?cb=1478111542984"
   ]
  },
  {
   "cell_type": "code",
   "execution_count": null,
   "metadata": {
    "collapsed": true
   },
   "outputs": [],
   "source": [
    "df_tmp = pd.read_csv(os.path.join(data_dir,'gender_age_histogram_source.csv'))"
   ]
  },
  {
   "cell_type": "code",
   "execution_count": null,
   "metadata": {
    "collapsed": false
   },
   "outputs": [],
   "source": [
    "fig, ax = plt.subplots(figsize=(10, 10))\n",
    "# Male\n",
    "age = df_tmp['age'][df_tmp['age'] < 90]\n",
    "male = df_tmp['num_males'][df_tmp['age'] < 90]\n",
    "female = df_tmp['num_females'][df_tmp['age'] < 90]\n",
    "# the width of the bars\n",
    "width = 0.8       \n",
    "rects1 = ax.bar(age, male, width, color='r', label='Male')\n",
    "rects1 = ax.bar(age, female, width, color='g', label='Female')\n",
    "ax.set_title('Male annual subscribers', fontsize=18)\n",
    "ax.set_xlabel('Age', fontsize=18)\n",
    "ax.set_ylabel('# rides (x 1000)', fontsize=18, labelpad=20)\n",
    "ax.legend(prop={'size': 20})\n",
    "# Hide the right and top spines\n",
    "ax.spines['right'].set_visible(False)\n",
    "ax.spines['top'].set_visible(False)\n",
    "# Set witdh of axes spines and ticks\n",
    "ax.spines['left'].set_linewidth(2)\n",
    "ax.spines['bottom'].set_linewidth(2)\n",
    "ax.xaxis.set_tick_params(width=2)\n",
    "ax.yaxis.set_tick_params(width=2)\n",
    "# Only show ticks on the left and bottom spines\n",
    "ax.yaxis.set_ticks_position('left')\n",
    "ax.xaxis.set_ticks_position('bottom')\n",
    "ax.tick_params(labelsize=18)\n",
    "ax.set_xlim(10,80)\n",
    "#"
   ]
  },
  {
   "cell_type": "markdown",
   "metadata": {},
   "source": [
    "Still very different. I don't know how they managed to create a histogram that showed such a higher fraction of females than males. In the original plot they even show female rides *higher* than male rides."
   ]
  },
  {
   "cell_type": "markdown",
   "metadata": {},
   "source": [
    "### Exploring the entries in the bars in the intercative plot on the exploratory.io website shows that female data is *stacked* on male data! That's were the discrepancy in the appearance comes from."
   ]
  },
  {
   "cell_type": "code",
   "execution_count": null,
   "metadata": {
    "collapsed": true
   },
   "outputs": [],
   "source": []
  },
  {
   "cell_type": "code",
   "execution_count": null,
   "metadata": {
    "collapsed": true
   },
   "outputs": [],
   "source": []
  },
  {
   "cell_type": "markdown",
   "metadata": {},
   "source": [
    "## Determine percentage growth per age bin for male and femal customers"
   ]
  },
  {
   "cell_type": "code",
   "execution_count": null,
   "metadata": {
    "collapsed": false
   },
   "outputs": [],
   "source": [
    "# Percent growth ratios\n",
    "condition = (df_2015['age'] > 20) & (df_2015['age'] < 70)\n",
    "age_2015 = df_2015['age'][condition].tolist()\n",
    "ratio_male = []\n",
    "ratio_male_err = []\n",
    "for tmp_age in age_2015:\n",
    "    tmp_num_2015 = df_2015['num_males'][df_2015['age'] == tmp_age].iloc[0]\n",
    "    tmp_num_2016 = df_2016['num_males'][df_2016['age'] == tmp_age].iloc[0]\n",
    "    tmp_diff = (tmp_num_2016-tmp_num_2015)\n",
    "    tmp_denom = tmp_num_2015\n",
    "    tmp = (tmp_diff / tmp_denom)\n",
    "    ratio_male.append(tmp*100)\n",
    "    # Assume Poisson error and propagate\n",
    "    tmp_err_1 = np.sqrt(tmp_num_2015)\n",
    "    tmp_err_2 = np.sqrt(tmp_num_2016)\n",
    "    tmp_diff_err = np.sqrt((tmp_err_1)**2 + (tmp_err_2)**2)\n",
    "    tmp_err = np.sqrt((tmp_diff_err/tmp_diff)**2 + (tmp_err_1/tmp_denom)**2)\n",
    "    ratio_male_err.append(tmp_err*tmp*100)\n",
    "ratio_female = []\n",
    "ratio_female_err = []\n",
    "for tmp_age in age_2015:\n",
    "    tmp_num_2015 = df_2015['num_females'][df_2015['age'] == tmp_age].iloc[0]\n",
    "    tmp_num_2016 = df_2016['num_females'][df_2016['age'] == tmp_age].iloc[0]\n",
    "    tmp_diff = (tmp_num_2016-tmp_num_2015)\n",
    "    tmp_denom = tmp_num_2015\n",
    "    tmp = (tmp_diff / tmp_denom)\n",
    "    ratio_female.append(tmp*100)\n",
    "    # Assume Poisson error and propagate\n",
    "    tmp_err_1 = np.sqrt(tmp_num_2015)\n",
    "    tmp_err_2 = np.sqrt(tmp_num_2016)\n",
    "    tmp_diff_err = np.sqrt((tmp_err_1)**2 + (tmp_err_2)**2)\n",
    "    tmp_err = np.sqrt((tmp_diff_err/tmp_diff)**2 + (tmp_err_1/tmp_denom)**2)\n",
    "    ratio_female_err.append(tmp_err*tmp*100)\n"
   ]
  },
  {
   "cell_type": "code",
   "execution_count": null,
   "metadata": {
    "collapsed": false
   },
   "outputs": [],
   "source": [
    "fig, ax = plt.subplots(figsize=(15, 10))\n",
    "#\n",
    "skip_begin = 4\n",
    "skip_end = 1\n",
    "tmp_x = age_2015[skip_begin:-skip_end]\n",
    "tmp_y_male = ratio_male[skip_begin:-skip_end]\n",
    "tmp_y_male_err = ratio_male_err[skip_begin:-skip_end]\n",
    "tmp_y_female = ratio_female[skip_begin:-skip_end]\n",
    "tmp_y_female_err = ratio_female_err[skip_begin:-skip_end]\n",
    "#\n",
    "plt.plot(tmp_x,tmp_y_male, color='green', label='Male', lw=1)\n",
    "plt.plot(tmp_x,tmp_y_female, color='blue', label='Female', lw=1)\n",
    "plt.title('Growth in subscribers per cohort\\n(2015 to 2016)', fontsize=24)\n",
    "plt.xlabel('Age', fontsize=18)\n",
    "plt.ylabel('Percent', fontsize=18, labelpad=20)\n",
    "# Make legend lines thicker\n",
    "blue_line = mlines.Line2D([], [], color='blue', \n",
    "                          lw=3, label='Female')\n",
    "green_line = mlines.Line2D([], [], color='green', \n",
    "                          lw=3, label='Male')\n",
    "\n",
    "plt.legend(prop={'size': 20},handles=[blue_line,green_line])\n",
    "# Show error margins\n",
    "tmp_lower = [x-y for x,y in zip(tmp_y_male,tmp_y_male_err)]\n",
    "tmp_upper = [x+y for x,y in zip(tmp_y_male,tmp_y_male_err)]\n",
    "ax.fill_between(tmp_x, tmp_upper, tmp_lower, facecolor='green', alpha=.5,)\n",
    "# Show error margins\n",
    "tmp_lower = [x-y for x,y in zip(tmp_y_female,tmp_y_female_err)]\n",
    "tmp_upper = [x+y for x,y in zip(tmp_y_female,tmp_y_female_err)]\n",
    "ax.fill_between(tmp_x, tmp_upper, tmp_lower, facecolor='blue', alpha=.5,)\n",
    "#\n",
    "ax.set_ylim(0,100)\n",
    "# ax.set_xlim(20,40)\n",
    "# Hide the right and top spines\n",
    "ax.spines['right'].set_visible(False)\n",
    "ax.spines['top'].set_visible(False)\n",
    "# Set witdh of axes spines and ticks\n",
    "ax.spines['left'].set_linewidth(2)\n",
    "ax.spines['bottom'].set_linewidth(2)\n",
    "ax.xaxis.set_tick_params(width=2)\n",
    "ax.yaxis.set_tick_params(width=2)\n",
    "# Only show ticks on the left and bottom spines\n",
    "ax.yaxis.set_ticks_position('left')\n",
    "ax.xaxis.set_ticks_position('bottom')\n",
    "ax.tick_params(labelsize=18)\n",
    "# \n",
    "# ax.text(0.15, 0.65, 'From 2015 to 2016, female annual customers (age 35-55) grew\\nstronger than male annual customers of the same age group.\\n(+500 customers)', style='italic',\n",
    "#         horizontalalignment='left', bbox={'facecolor':'lightblue', 'alpha':0.5, 'pad':10},\n",
    "#         transform=ax.transAxes,fontsize=20)\n",
    "#\n",
    "plt.savefig(os.path.join(data_dir,'plots','growth_subscriber_demographics_2015_2016.pdf'), bbox_inches='tight')\n",
    "#\n"
   ]
  },
  {
   "cell_type": "markdown",
   "metadata": {},
   "source": [
    "## Determine extra growth in female customers 2015 -> 2016 at ages 35-55"
   ]
  },
  {
   "cell_type": "code",
   "execution_count": null,
   "metadata": {
    "collapsed": false
   },
   "outputs": [],
   "source": [
    "age1 = 35\n",
    "age2 = 55\n",
    "# find the aggregated number of rides per gender in the age bracket\n",
    "n_female_2015 = df_2015['num_females'][(df_2015['age'] >= age1) & (df_2015['age'] <= age2)].sum()\n",
    "n_female_2016 = df_2016['num_females'][(df_2016['age'] >= age1) & (df_2016['age'] <= age2)].sum()\n",
    "n_male_2015 = df_2015['num_males'][(df_2015['age'] >= age1) & (df_2015['age'] <= age2)].sum()\n",
    "n_male_2016 = df_2016['num_males'][(df_2016['age'] >= age1) & (df_2016['age'] <= age2)].sum()\n",
    "print(n_male_2015, n_female_2015)\n",
    "print(n_male_2016, n_female_2016)\n",
    "# If female customers had grown at the same rate as the males, what would have been the number of female customers?\n",
    "growth_ratio_male = n_male_2016/n_male_2015\n",
    "growth_ratio_female = n_female_2016/n_female_2015\n",
    "print('Growth ratios:', growth_ratio_male, growth_ratio_female)\n",
    "print('Growth percetages:', 100*(n_male_2016-n_male_2015)/n_male_2015, 100*(n_female_2016-n_female_2015)/n_female_2015)\n",
    "\n",
    "print(100*(growth_ratio_female-growth_ratio_male)/growth_ratio_male)\n",
    "n_female_2016_hypo = int(round(growth_ratio_male*n_female_2015))\n",
    "print(n_female_2016_hypo, n_female_2016)\n",
    "diff = n_female_2016-n_female_2016_hypo\n",
    "print('Difference in # rides: {}'.format(diff))\n",
    "print('Difference in # of customers (assuming 112 rides per customer per year): {}'.format((diff)/112))"
   ]
  },
  {
   "cell_type": "code",
   "execution_count": null,
   "metadata": {
    "collapsed": false
   },
   "outputs": [],
   "source": [
    "# Now do the same by using weighted averages/medians in the age bracket\n",
    "age1 = 35\n",
    "age2 = 55\n",
    "# find the number of rides per gender and age in the age bracket\n",
    "n_female_2015 = df_2015['num_females'][(df_2015['age'] >= age1) & (df_2015['age'] <= age2)].tolist()\n",
    "n_female_2016 = df_2016['num_females'][(df_2016['age'] >= age1) & (df_2016['age'] <= age2)].tolist()\n",
    "n_male_2015 = df_2015['num_males'][(df_2015['age'] >= age1) & (df_2015['age'] <= age2)].tolist()\n",
    "n_male_2016 = df_2016['num_males'][(df_2016['age'] >= age1) & (df_2016['age'] <= age2)].tolist()\n",
    "# Determine the weighted average of growth in the age bracket. Use combined numbers and weights.\n",
    "growth_male_1 = np.average(n_male_2015,weights=n_male_2015)\n",
    "growth_male_2 = np.average(n_male_2016,weights=n_male_2016)\n",
    "growth_male_avg = growth_male_2/growth_male_1\n",
    "growth_female_1 = np.average(n_female_2015,weights=n_female_2015)\n",
    "growth_female_2 = np.average(n_female_2016,weights=n_female_2016)\n",
    "growth_female_avg = growth_female_2/growth_female_1\n",
    "print('Growth ratios:', growth_male_avg, growth_female_avg)\n",
    "\n",
    "growth_male_1 = np.average(n_male_2015,weights=n_male_2015)\n",
    "growth_male_2 = np.average(n_male_2016,weights=n_male_2016)\n",
    "growth_male_avg = growth_male_2/growth_male_1\n",
    "growth_female_1 = np.average(n_female_2015,weights=n_female_2015)\n",
    "growth_female_2 = np.average([x-42000./len(n_female_2016) for x in n_female_2016],weights=[x-42000/len(n_female_2016) for x in n_female_2016])\n",
    "growth_female_avg = growth_female_2/growth_female_1\n",
    "print('Growth ratios:', growth_male_avg, growth_female_avg)\n",
    "growth_male = np.average(np.array(n_male_2016)/np.array(n_male_2015),\n",
    "                         weights=np.array([x+y for x,y in zip(n_male_2015,n_male_2016)]))\n",
    "growth_female = np.average(np.array(n_female_2016)/np.array(n_female_2015),\n",
    "                           weights=np.array([x+y for x,y in zip(n_female_2015,n_female_2016)]))\n",
    "print('Growth ratios:', growth_male, growth_female)\n",
    "\n",
    "# If female customers had grown at the same rate as the males, what would have been the number of female customers?\n",
    "print(100*(growth_female-growth_male)/growth_male)\n",
    "n_female_2016_hypo = int(round(growth_male*sum(n_female_2015)))\n",
    "diff = sum(n_female_2016)-n_female_2016_hypo\n",
    "print('Difference in # rides: {}'.format(diff))\n",
    "print('Difference in # of customers (assuming 112 rides per customer per year): {}'.format((diff)/112))"
   ]
  },
  {
   "cell_type": "code",
   "execution_count": null,
   "metadata": {
    "collapsed": true
   },
   "outputs": [],
   "source": []
  },
  {
   "cell_type": "markdown",
   "metadata": {},
   "source": [
    "## Compare age group usage for male and femal customers"
   ]
  },
  {
   "cell_type": "code",
   "execution_count": null,
   "metadata": {
    "collapsed": false
   },
   "outputs": [],
   "source": [
    "age_2015 = df_2015['age'][df_2015['age'] < 70]\n",
    "ratio_2015 = (df_2015['num_males'][df_2015['age'] < 70] / df_2015['num_females'][df_2015['age'] < 70]).tolist()\n",
    "tmp_ratio_2015_err = (((df_2015['num_males'][df_2015['age'] < 70].apply(np.sqrt) / \n",
    "                        df_2015['num_males'][df_2015['age'] < 70]).apply(lambda x: x**2) +\n",
    "                       (df_2015['num_females'][df_2015['age'] < 70].apply(np.sqrt) / \n",
    "                        df_2015['num_females'][df_2015['age'] < 70]).apply(lambda x: x**2)).apply(np.sqrt)).tolist()\n",
    "ratio_2015_err = [x*y for x,y in zip(ratio_2015,tmp_ratio_2015_err)]\n",
    "#\n",
    "age_2016 = df_2016['age'][df_2016['age'] < 70]\n",
    "ratio_2016 = (df_2016['num_males'][df_2016['age'] < 70] / df_2016['num_females'][df_2016['age'] < 70]).tolist()\n",
    "tmp_ratio_2016_err = (((df_2016['num_males'][df_2016['age'] < 70].apply(np.sqrt) / \n",
    "                        df_2016['num_males'][df_2016['age'] < 70]).apply(lambda x: x**2) +\n",
    "                       (df_2016['num_females'][df_2016['age'] < 70].apply(np.sqrt) / \n",
    "                        df_2016['num_females'][df_2016['age'] < 70]).apply(lambda x: x**2)).apply(np.sqrt)).tolist()\n",
    "ratio_2016_err = [x*y for x,y in zip(ratio_2016,tmp_ratio_2016_err)]\n",
    "\n",
    "\n"
   ]
  },
  {
   "cell_type": "code",
   "execution_count": null,
   "metadata": {
    "collapsed": false
   },
   "outputs": [],
   "source": [
    "fig, ax = plt.subplots(figsize=(15, 10))\n",
    "plt.plot(age_2015,ratio_2015, color='green', label='2015', lw=3)\n",
    "plt.plot(age_2016,ratio_2016, color='blue', label='2016', lw=3)\n",
    "plt.title('Ratio of rides taken by male over female subscribers', fontsize=18)\n",
    "plt.ylabel('Ratio (Male over Female)', fontsize=18)\n",
    "plt.xlabel('Age', fontsize=18)\n",
    "plt.legend(prop={'size': 20})\n",
    "#\n",
    "plt.plot([age_2015.iloc[0],age_2015.iloc[-1]],[np.median(ratio_2015),np.median(ratio_2015)],'g--', lw=3)\n",
    "plt.plot([age_2016.iloc[0],age_2016.iloc[-1]],[np.median(ratio_2016),np.median(ratio_2016)],'b--', lw=3)\n",
    "# Show error margins\n",
    "tmp_lower = [x-y for x,y in zip(ratio_2015,ratio_2015_err)]\n",
    "tmp_upper = [x+y for x,y in zip(ratio_2015,ratio_2015_err)]\n",
    "ax.fill_between(age_2015, tmp_upper, tmp_lower, facecolor='green', alpha=.5,)\n",
    "# Show error margins\n",
    "tmp_lower = [x-y for x,y in zip(ratio_2016,ratio_2016_err)]\n",
    "tmp_upper = [x+y for x,y in zip(ratio_2016,ratio_2016_err)]\n",
    "ax.fill_between(age_2016, tmp_upper, tmp_lower, facecolor='blue', alpha=.5,)\n",
    "# Hide the right and top spines\n",
    "ax.spines['right'].set_visible(False)\n",
    "ax.spines['top'].set_visible(False)\n",
    "# Set witdh of axes spines and ticks\n",
    "ax.spines['left'].set_linewidth(2)\n",
    "ax.spines['bottom'].set_linewidth(2)\n",
    "ax.xaxis.set_tick_params(width=2)\n",
    "ax.yaxis.set_tick_params(width=2)\n",
    "# Only show ticks on the left and bottom spines\n",
    "ax.yaxis.set_ticks_position('left')\n",
    "ax.xaxis.set_ticks_position('bottom')\n",
    "ax.tick_params(labelsize=18)\n",
    "#\n",
    "plt.savefig(os.path.join(data_dir,'plots','ride_ratio_subscriber_demographics_2015_2016.pdf'), bbox_inches='tight')\n"
   ]
  },
  {
   "cell_type": "code",
   "execution_count": null,
   "metadata": {
    "collapsed": true
   },
   "outputs": [],
   "source": []
  },
  {
   "cell_type": "markdown",
   "metadata": {},
   "source": [
    "## Compare age group usage for male and femal customers - Part II"
   ]
  },
  {
   "cell_type": "markdown",
   "metadata": {},
   "source": [
    "Same as above, but replace the straight median with weighted (by number of customers/rides in bin) median."
   ]
  },
  {
   "cell_type": "code",
   "execution_count": null,
   "metadata": {
    "collapsed": true
   },
   "outputs": [],
   "source": [
    "# Determine median/average ratios weighted by #_of_rides/customers\n",
    "# age_2015 = df_2015['age'][df_2015['age'] < 70]\n",
    "# ratio_2015 = (df_2015['num_males'][df_2015['age'] < 70] / df_2015['num_females'][df_2015['age'] < 70]).tolist()\n",
    "combined_num_2015 = (df_2015['num_males'][df_2015['age'] < 70]+df_2015['num_females'][df_2015['age'] < 70]).tolist()\n",
    "combined_num_2016 = (df_2016['num_males'][df_2016['age'] < 70]+df_2016['num_females'][df_2016['age'] < 70]).tolist()\n"
   ]
  },
  {
   "cell_type": "code",
   "execution_count": null,
   "metadata": {
    "collapsed": false
   },
   "outputs": [],
   "source": [
    "# Weighted average\n",
    "avg_2015_weighted = np.average(ratio_2015,weights=combined_num_2015)\n",
    "avg_2016_weighted = np.average(ratio_2016,weights=combined_num_2016)\n",
    "print(avg_2015_weighted,avg_2016_weighted)"
   ]
  },
  {
   "cell_type": "code",
   "execution_count": null,
   "metadata": {
    "collapsed": false
   },
   "outputs": [],
   "source": [
    "# Weighted median using one piece of code (see at the beginning)\n",
    "print(median(np.array(ratio_2015),np.array(combined_num_2015)))\n",
    "print(median(np.array(ratio_2016),np.array(combined_num_2016)))"
   ]
  },
  {
   "cell_type": "code",
   "execution_count": null,
   "metadata": {
    "collapsed": false
   },
   "outputs": [],
   "source": [
    "# Weighted median using a different piece of code (see at the beginning)\n",
    "print(weighted_median(ratio_2015,weights=combined_num_2015))\n",
    "print(weighted_median(ratio_2016,weights=combined_num_2016))"
   ]
  },
  {
   "cell_type": "markdown",
   "metadata": {},
   "source": [
    "The different weighted median codes result in slightly different results. For link to code source see above where functions are defined. \n",
    "\n",
    "Notably, the weighted *median* values are always below the weigted *average* values."
   ]
  },
  {
   "cell_type": "code",
   "execution_count": null,
   "metadata": {
    "collapsed": false
   },
   "outputs": [],
   "source": [
    "# Run weighted median from very simple approximation:\n",
    "# each age group ratio appears as often as its weight (combined number of rides).\n",
    "# Then take the median of the resulting array.\n",
    "l1 = ratio_2015\n",
    "l2 = combined_num_2015\n",
    "out = np.zeros(0)\n",
    "out = []\n",
    "for i,j in zip(l1,l2):\n",
    "    out = out + [i]*j\n",
    "print(len(out))\n",
    "print(np.median(out))    \n",
    "        "
   ]
  },
  {
   "cell_type": "code",
   "execution_count": null,
   "metadata": {
    "collapsed": false
   },
   "outputs": [],
   "source": [
    "# Same as above for 2016\n",
    "l1 = ratio_2016\n",
    "l2 = combined_num_2016\n",
    "out = np.zeros(0)\n",
    "out = []\n",
    "for i,j in zip(l1,l2):\n",
    "    out = out + [i]*j\n",
    "print(len(out))\n",
    "print(np.median(out))    \n",
    "\n"
   ]
  },
  {
   "cell_type": "code",
   "execution_count": null,
   "metadata": {
    "collapsed": false
   },
   "outputs": [],
   "source": [
    "fig, ax = plt.subplots(figsize=(15, 10))\n",
    "#\n",
    "skip_begin = 0\n",
    "skip_end = 1\n",
    "#\n",
    "tmp_x = age_2015[skip_begin:-skip_end]\n",
    "tmp_y_ratio = ratio_2015[skip_begin:-skip_end]\n",
    "tmp_y_ratio_err = ratio_2015_err[skip_begin:-skip_end]\n",
    "#\n",
    "# plt.plot(tmp_x,tmp_y_ratio, color='green', label='2015', lw=3)\n",
    "# Show error margins\n",
    "tmp_lower = [x-y for x,y in zip(tmp_y_ratio,tmp_y_ratio_err)]\n",
    "tmp_upper = [x+y for x,y in zip(tmp_y_ratio,tmp_y_ratio_err)]\n",
    "# ax.fill_between(tmp_x, tmp_upper, tmp_lower, facecolor='green', alpha=.5,)\n",
    "# plt.plot([age_2015.iloc[0],age_2015.iloc[-1]],[3.3,3.3],'g--', lw=3,label='2015 median (wgt)')\n",
    "skip_begin = 0\n",
    "skip_end = 1\n",
    "#\n",
    "tmp_x = age_2016[skip_begin:-skip_end]\n",
    "tmp_y_ratio = ratio_2016[skip_begin:-skip_end]\n",
    "tmp_y_ratio_err = ratio_2016_err[skip_begin:-skip_end]\n",
    "#\n",
    "plt.plot(tmp_x,tmp_y_ratio, color='blue', label='2016', lw=3)\n",
    "# Show error margins\n",
    "tmp_lower = [x-y for x,y in zip(tmp_y_ratio,tmp_y_ratio_err)]\n",
    "tmp_upper = [x+y for x,y in zip(tmp_y_ratio,tmp_y_ratio_err)]\n",
    "ax.fill_between(tmp_x, tmp_upper, tmp_lower, facecolor='blue', alpha=.5,)\n",
    "#\n",
    "plt.title('Ratio of male over female subscribers', fontsize=24)\n",
    "plt.ylabel('Ratio (Male over Female)', fontsize=18)\n",
    "plt.xlabel('Age', fontsize=18)\n",
    "#\n",
    "plt.plot([age_2016.iloc[0],age_2016.iloc[-1]],[3.1,3.1],'b--', lw=3,label='median (wgt)')\n",
    "#\n",
    "plt.legend(prop={'size': 20}, loc=2)\n",
    "# Show error margins\n",
    "tmp_lower = [x-y for x,y in zip(ratio_2016,ratio_2016_err)]\n",
    "tmp_upper = [x+y for x,y in zip(ratio_2016,ratio_2016_err)]\n",
    "ax.fill_between(age_2016, tmp_upper, tmp_lower, facecolor='blue', alpha=.5,)\n",
    "# Hide the right and top spines\n",
    "ax.spines['right'].set_visible(False)\n",
    "ax.spines['top'].set_visible(False)\n",
    "# Set witdh of axes spines and ticks\n",
    "ax.spines['left'].set_linewidth(2)\n",
    "ax.spines['bottom'].set_linewidth(2)\n",
    "ax.xaxis.set_tick_params(width=2)\n",
    "ax.yaxis.set_tick_params(width=2)\n",
    "# Only show ticks on the left and bottom spines\n",
    "ax.yaxis.set_ticks_position('left')\n",
    "ax.xaxis.set_ticks_position('bottom')\n",
    "ax.tick_params(labelsize=18)\n",
    "#\n",
    "plt.savefig(os.path.join(data_dir,'plots','ride_ratio_subscriber_demographics_2016.pdf'), bbox_inches='tight')\n",
    "\n"
   ]
  },
  {
   "cell_type": "code",
   "execution_count": null,
   "metadata": {
    "collapsed": true
   },
   "outputs": [],
   "source": []
  },
  {
   "cell_type": "markdown",
   "metadata": {},
   "source": [
    "## Compare age group usage for male and femal customers - Histogram"
   ]
  },
  {
   "cell_type": "markdown",
   "metadata": {},
   "source": [
    "Explore if a histogram representation can make the result above a bit easier to access."
   ]
  },
  {
   "cell_type": "code",
   "execution_count": null,
   "metadata": {
    "collapsed": true
   },
   "outputs": [],
   "source": []
  },
  {
   "cell_type": "code",
   "execution_count": null,
   "metadata": {
    "collapsed": false
   },
   "outputs": [],
   "source": [
    "fig, ax = plt.subplots(1,2,figsize=(20, 10))\n",
    "# Data\n",
    "age = df_2016['age'][df_2016['age'] < 90]\n",
    "male = df_2016['num_males'][df_2016['age'] < 90]\n",
    "female = df_2016['num_females'][df_2016['age'] < 90]\n",
    "# the width of the bars\n",
    "width = 0.8       \n",
    "ax[0].fill_between(age, 0, male/1e3, step='mid', color='b',label='Male', alpha=0.2)\n",
    "rects1 = ax[0].step(age, male/1e3, where='mid', color='b',  lw=3)\n",
    "ax[0].fill_between(age, 0, female/1e3, step='mid', color='g',label='Female', alpha=0.2)\n",
    "rects1 = ax[0].step(age, female/1e3, where='mid', color='g',  lw=3)\n",
    "# Labels\n",
    "ax[0].set_title('Annual subscribers 2016', fontsize=18)\n",
    "ax[0].set_xlabel('Age', fontsize=18)\n",
    "ax[0].set_ylabel('# rides (x 1000)', fontsize=18, labelpad=20)\n",
    "green_patch = mpatches.Patch(label='Female', alpha=0.4, edgecolor='g', facecolor='g', lw=3)\n",
    "blue_patch = mpatches.Patch(label='Male', alpha=0.4, edgecolor='b', facecolor='b', lw=3)\n",
    "ax[0].legend(handles=[blue_patch,green_patch], prop={'size': 20})\n",
    "# Hide the right and top spines\n",
    "ax[0].spines['right'].set_visible(False)\n",
    "ax[0].spines['top'].set_visible(False)\n",
    "# Set witdh of axes spines and ticks\n",
    "ax[0].spines['left'].set_linewidth(2)\n",
    "ax[0].spines['bottom'].set_linewidth(2)\n",
    "ax[0].xaxis.set_tick_params(width=2)\n",
    "ax[0].yaxis.set_tick_params(width=2)\n",
    "# Only show ticks on the left and bottom spines\n",
    "ax[0].yaxis.set_ticks_position('left')\n",
    "ax[0].xaxis.set_ticks_position('bottom')\n",
    "ax[0].tick_params(labelsize=18)\n",
    "ax[0].set_xlim(10,80)\n",
    "# Scaled data\n",
    "scale_factor = max(male)/max(female)\n",
    "print('Scale factor: {}'.format(scale_factor))\n",
    "female_scaled = female*scale_factor\n",
    "# the width of the bars\n",
    "width = 0.8       \n",
    "ax[1].fill_between(age, 0, male/1e3, step='mid', color='b',label='Male', alpha=0.2)\n",
    "rects1 = ax[1].step(age, male/1e3, where='mid', color='b',  lw=3)\n",
    "ax[1].fill_between(age, 0, female_scaled/1e3, step='mid', color='g',label='Female', alpha=0.2)\n",
    "rects1 = ax[1].step(age, female_scaled/1e3, where='mid', color='g',  lw=3)\n",
    "# Labels\n",
    "ax[1].set_title('Annual subscribers 2016', fontsize=18)\n",
    "ax[1].set_xlabel('Age', fontsize=18)\n",
    "ax[1].set_ylabel('# rides (x 1000)', fontsize=18, labelpad=20)\n",
    "green_patch = mpatches.Patch(label='Female x 2.6', alpha=0.4, edgecolor='g', facecolor='g', lw=3)\n",
    "blue_patch = mpatches.Patch(label='Male', alpha=0.4, edgecolor='b', facecolor='b', lw=3)\n",
    "ax[1].legend(handles=[blue_patch,green_patch], prop={'size': 20})\n",
    "# Hide the right and top spines\n",
    "ax[1].spines['right'].set_visible(False)\n",
    "ax[1].spines['top'].set_visible(False)\n",
    "# Set witdh of axes spines and ticks\n",
    "ax[1].spines['left'].set_linewidth(2)\n",
    "ax[1].spines['bottom'].set_linewidth(2)\n",
    "ax[1].xaxis.set_tick_params(width=2)\n",
    "ax[1].yaxis.set_tick_params(width=2)\n",
    "# Only show ticks on the left and bottom spines\n",
    "ax[1].yaxis.set_ticks_position('left')\n",
    "ax[1].xaxis.set_ticks_position('bottom')\n",
    "ax[1].tick_params(labelsize=18)\n",
    "ax[1].set_xlim(10,80)\n",
    "plt.savefig(os.path.join(data_dir,'plots','subscriber_demographics_2016.pdf'), bbox_inches='tight')\n",
    "\n",
    "\n",
    "\n"
   ]
  },
  {
   "cell_type": "code",
   "execution_count": null,
   "metadata": {
    "collapsed": true
   },
   "outputs": [],
   "source": []
  },
  {
   "cell_type": "code",
   "execution_count": null,
   "metadata": {
    "collapsed": true
   },
   "outputs": [],
   "source": []
  },
  {
   "cell_type": "markdown",
   "metadata": {},
   "source": [
    "## Animate the scaling "
   ]
  },
  {
   "cell_type": "code",
   "execution_count": null,
   "metadata": {
    "collapsed": false
   },
   "outputs": [],
   "source": [
    "n_steps = 17\n",
    "# Data\n",
    "age = df_2016['age'][df_2016['age'] < 90]\n",
    "male = df_2016['num_males'][df_2016['age'] < 90]\n",
    "female = df_2016['num_females'][df_2016['age'] < 90]\n",
    "# Scaled data\n",
    "scale_factor = max(male)/max(female)\n",
    "print('Max scale factor: {}'.format(scale_factor))\n",
    "female_scaled = female*scale_factor\n",
    "# \n",
    "steps = np.linspace(1.0,scale_factor,n_steps)\n",
    "for idx,step in enumerate(steps):\n",
    "    female_scaled = female*step\n",
    "    print('Plotting scale factor {:02.1f}'.format(step))\n",
    "    #\n",
    "    fig, ax = plt.subplots(1,2,figsize=(20, 10))\n",
    "    # the width of the bars\n",
    "    width = 0.8       \n",
    "    ax[0].fill_between(age, 0, male/1e3, step='mid', color='b',label='Male', alpha=0.2)\n",
    "    rects1 = ax[0].step(age, male/1e3, where='mid', color='b',  lw=3)\n",
    "    ax[0].fill_between(age, 0, female/1e3, step='mid', color='g',label='Female', alpha=0.2)\n",
    "    rects1 = ax[0].step(age, female/1e3, where='mid', color='g',  lw=3)\n",
    "    # Labels\n",
    "    ax[0].set_title('Annual subscribers 2016', fontsize=18)\n",
    "    ax[0].set_xlabel('Age', fontsize=18)\n",
    "    ax[0].set_ylabel('# rides (x 1000)', fontsize=18, labelpad=20)\n",
    "    green_patch = mpatches.Patch(label='Female', alpha=0.4, edgecolor='g', facecolor='g', lw=3)\n",
    "    blue_patch = mpatches.Patch(label='Male', alpha=0.4, edgecolor='b', facecolor='b', lw=3)\n",
    "    ax[0].legend(handles=[blue_patch,green_patch], prop={'size': 20})\n",
    "    # Hide the right and top spines\n",
    "    ax[0].spines['right'].set_visible(False)\n",
    "    ax[0].spines['top'].set_visible(False)\n",
    "    # Set witdh of axes spines and ticks\n",
    "    ax[0].spines['left'].set_linewidth(2)\n",
    "    ax[0].spines['bottom'].set_linewidth(2)\n",
    "    ax[0].xaxis.set_tick_params(width=2)\n",
    "    ax[0].yaxis.set_tick_params(width=2)\n",
    "    # Only show ticks on the left and bottom spines\n",
    "    ax[0].yaxis.set_ticks_position('left')\n",
    "    ax[0].xaxis.set_ticks_position('bottom')\n",
    "    ax[0].tick_params(labelsize=18)\n",
    "    ax[0].set_xlim(10,80)\n",
    "    # the width of the bars\n",
    "    width = 0.8       \n",
    "    ax[1].fill_between(age, 0, male/1e3, step='mid', color='b',label='Male', alpha=0.2)\n",
    "    rects1 = ax[1].step(age, male/1e3, where='mid', color='b',  lw=3)\n",
    "    ax[1].fill_between(age, 0, female_scaled/1e3, step='mid', color='g',label='Female', alpha=0.2)\n",
    "    rects1 = ax[1].step(age, female_scaled/1e3, where='mid', color='g',  lw=3)\n",
    "    # Labels\n",
    "    ax[1].set_title('Annual subscribers 2016', fontsize=18)\n",
    "    ax[1].set_xlabel('Age', fontsize=18)\n",
    "    ax[1].set_ylabel('# rides (x 1000)', fontsize=18, labelpad=20)\n",
    "    green_patch = mpatches.Patch(label='Female x {:2.1f}'.format(step), alpha=0.4, edgecolor='g', facecolor='g', lw=3)\n",
    "    blue_patch = mpatches.Patch(label='Male', alpha=0.4, edgecolor='b', facecolor='b', lw=3)\n",
    "    ax[1].legend(handles=[blue_patch,green_patch], prop={'size': 20})\n",
    "    # Hide the right and top spines\n",
    "    ax[1].spines['right'].set_visible(False)\n",
    "    ax[1].spines['top'].set_visible(False)\n",
    "    # Set witdh of axes spines and ticks\n",
    "    ax[1].spines['left'].set_linewidth(2)\n",
    "    ax[1].spines['bottom'].set_linewidth(2)\n",
    "    ax[1].xaxis.set_tick_params(width=2)\n",
    "    ax[1].yaxis.set_tick_params(width=2)\n",
    "    # Only show ticks on the left and bottom spines\n",
    "    ax[1].yaxis.set_ticks_position('left')\n",
    "    ax[1].xaxis.set_ticks_position('bottom')\n",
    "    ax[1].tick_params(labelsize=18)\n",
    "    ax[1].set_xlim(10,80)\n",
    "    #\n",
    "    plt.savefig(os.path.join(data_dir,'plots','subscriber_demographics_2016_anim_'+'{:02.0f}'.format(idx)+'.png'), bbox_inches='tight')\n",
    "    plt.close()\n"
   ]
  },
  {
   "cell_type": "code",
   "execution_count": null,
   "metadata": {
    "collapsed": false
   },
   "outputs": [],
   "source": [
    "# Convert indiviudal plots to animated gif using command-line tools\n",
    "# catch current directory\n",
    "curr_dir = os.getcwd()\n",
    "# change to plot directory\n",
    "plot_path = os.path.join(data_dir,'plots')\n",
    "os.chdir(plot_path)\n",
    "# create animation\n",
    "files = glob.glob('subscriber_demographics_2016_anim_*.png')\n",
    "if len(files) == 0:\n",
    "    print('Ooops...')\n",
    "else:\n",
    "    call = 'convert -delay 5 -loop 1 subscriber_demographics_2016_anim_*.png scaling.gif'\n",
    "    subprocess.call(call.split(' '))\n",
    "# return to original directory\n",
    "os.chdir(curr_dir)\n"
   ]
  },
  {
   "cell_type": "code",
   "execution_count": null,
   "metadata": {
    "collapsed": true
   },
   "outputs": [],
   "source": []
  },
  {
   "cell_type": "markdown",
   "metadata": {},
   "source": [
    "## Determine how many additional customers would be needed to fill the gap in F35+"
   ]
  },
  {
   "cell_type": "code",
   "execution_count": null,
   "metadata": {
    "collapsed": false
   },
   "outputs": [],
   "source": [
    "# Data\n",
    "age = df_2016['age'][df_2016['age'] < 90].tolist()\n",
    "male = df_2016['num_males'][df_2016['age'] < 90].tolist()\n",
    "female = df_2016['num_females'][df_2016['age'] < 90].tolist()\n",
    "# Scaled data\n",
    "scale_factor = max(male)/max(female)\n",
    "print('Scale factor: {}'.format(scale_factor))\n",
    "female_scaled = [x*scale_factor for x in female]\n",
    "# Determine number of 'missing rides'\n",
    "n_total_missed = 0\n",
    "for idx,tmp_age in enumerate(age):\n",
    "    if tmp_age >= 35 and tmp_age <= 55:\n",
    "        tmp_missed = male[idx] - female_scaled[idx]\n",
    "        n_total_missed += tmp_missed\n",
    "print('In 2016, {} rides were missing in the 35-55 age bracket '.format(n_total_missed)+\n",
    "      'to match female and male engagement (modolo a scaling factor of 2.6)')        \n",
    "n_total_missed_true = n_total_missed/scale_factor\n",
    "print('Taking out the scaling factor leads to {:.0f} rides.'.format(round(n_total_missed_true)))        \n",
    "\n",
    "print('Using a number of 103 rides / customer / year, this translates into '+\n",
    "      '{:.0f} customers (F35+)'.format(round(n_total_missed_true/103.)))\n",
    "print('Using the current price of an annual membership ($163) this would mean '+\n",
    "      'a total increase in revenue of {:.0f} USD.'.format(round(n_total_missed_true/103.*163.)))\n"
   ]
  },
  {
   "cell_type": "code",
   "execution_count": null,
   "metadata": {
    "collapsed": true
   },
   "outputs": [],
   "source": []
  },
  {
   "cell_type": "markdown",
   "metadata": {},
   "source": [
    "## Recreate the histograms showing male/female numbers in 2015/2016 in the same style"
   ]
  },
  {
   "cell_type": "code",
   "execution_count": null,
   "metadata": {
    "collapsed": false
   },
   "outputs": [],
   "source": [
    "# Same as above but in a different style/color\n",
    "fig, ax = plt.subplots(1,2,figsize=(20, 10))\n",
    "# Male\n",
    "age = (df_2015['age'][df_2015['age'] < 90],df_2016['age'][df_2016['age'] < 90])\n",
    "male = (df_2015['num_males'][df_2015['age'] < 90],df_2016['num_males'][df_2016['age'] < 90])\n",
    "# the width of the bars\n",
    "width = 0.8\n",
    "norm_factor = max(male[1])\n",
    "ax[0].fill_between(age[1], 0, [x/norm_factor for x in male[1]], step='mid', color='b', alpha=0.2)\n",
    "rects1 = ax[0].step(age[1], [x/norm_factor for x in male[1]], where='mid', color='b', label='2016', lw=3)\n",
    "ax[0].fill_between(age[0], 0, [x/norm_factor for x in male[0]], step='mid', color='g', alpha=0.2)\n",
    "rects1 = ax[0].step(age[0], [x/norm_factor for x in male[0]], where='mid', color='g', label='2015', lw=3)\n",
    "#\n",
    "ax[0].set_title('Male', fontsize=24)\n",
    "ax[0].set_xlabel('Age', fontsize=18)\n",
    "ax[0].set_ylabel('# rides (normalized)', fontsize=18, labelpad=20)\n",
    "green_patch = mpatches.Patch(label='2015', alpha=0.4, edgecolor='g', facecolor='g', lw=3)\n",
    "blue_patch = mpatches.Patch(label='2016', alpha=0.4, edgecolor='b', facecolor='b', lw=3)\n",
    "ax[0].legend(handles=[blue_patch,green_patch], prop={'size': 20})\n",
    "# Hide the right and top spines\n",
    "ax[0].spines['right'].set_visible(False)\n",
    "ax[0].spines['top'].set_visible(False)\n",
    "# Set witdh of axes spines and ticks\n",
    "ax[0].spines['left'].set_linewidth(2)\n",
    "ax[0].spines['bottom'].set_linewidth(2)\n",
    "ax[0].xaxis.set_tick_params(width=2)\n",
    "ax[0].yaxis.set_tick_params(width=2)\n",
    "# Only show ticks on the left and bottom spines\n",
    "ax[0].yaxis.set_ticks_position('left')\n",
    "ax[0].xaxis.set_ticks_position('bottom')\n",
    "ax[0].tick_params(labelsize=18)\n",
    "ax[0].set_xlim(10,80)\n",
    "#\n",
    "# Female\n",
    "age = (df_2015['age'][df_2015['age'] < 90],df_2016['age'][df_2016['age'] < 90])\n",
    "female = (df_2015['num_females'][df_2015['age'] < 90],df_2016['num_females'][df_2016['age'] < 90])\n",
    "# the width of the bars\n",
    "norm_factor = max(female[1])\n",
    "width = 0.8       \n",
    "ax[1].fill_between(age[1], 0, [x/norm_factor for x in female[1]], step='mid', color='b',label='2016', alpha=0.2)\n",
    "rects1 = ax[1].step(age[1], [x/norm_factor for x in female[1]], where='mid', color='b',  lw=3)\n",
    "ax[1].fill_between(age[0], 0, [x/norm_factor for x in female[0]], step='mid', color='g',label='2015', alpha=0.2)\n",
    "rects1 = ax[1].step(age[0], [x/norm_factor for x in female[0]], where='mid', color='g',  lw=3)\n",
    "\n",
    "\n",
    "ax[1].set_title('Female', fontsize=24)\n",
    "ax[1].set_xlabel('Age', fontsize=18)\n",
    "ax[1].set_ylabel('# rides (normalized)', fontsize=18, labelpad=20)\n",
    "green_patch = mpatches.Patch(label='2015', alpha=0.4, edgecolor='g', facecolor='g', lw=3)\n",
    "blue_patch = mpatches.Patch(label='2016', alpha=0.4, edgecolor='b', facecolor='b', lw=3)\n",
    "ax[1].legend(handles=[blue_patch,green_patch], prop={'size': 20})\n",
    "\n",
    "# Hide the right and top spines\n",
    "ax[1].spines['right'].set_visible(False)\n",
    "ax[1].spines['top'].set_visible(False)\n",
    "# Set witdh of axes spines and ticks\n",
    "ax[1].spines['left'].set_linewidth(2)\n",
    "ax[1].spines['bottom'].set_linewidth(2)\n",
    "ax[1].xaxis.set_tick_params(width=2)\n",
    "ax[1].yaxis.set_tick_params(width=2)\n",
    "# Only show ticks on the left and bottom spines\n",
    "ax[1].yaxis.set_ticks_position('left')\n",
    "ax[1].xaxis.set_ticks_position('bottom')\n",
    "ax[1].tick_params(labelsize=18)\n",
    "ax[1].set_xlim(10,80)\n",
    "# ax[1].set_ylim(0,400)\n",
    "#\n",
    "plt.savefig(os.path.join(data_dir,'plots','subscriber_growth_demographics_2015_2016.pdf'), bbox_inches='tight')\n",
    "\n"
   ]
  },
  {
   "cell_type": "markdown",
   "metadata": {},
   "source": [
    "## Re-calcuate the growth, now as a ratio instead of a percentage. Plot in the same style."
   ]
  },
  {
   "cell_type": "code",
   "execution_count": null,
   "metadata": {
    "collapsed": true
   },
   "outputs": [],
   "source": [
    "# Growth ratios\n",
    "condition = (df_2015['age'] > 20) & (df_2015['age'] < 70)\n",
    "age_2015 = df_2015['age'][condition].tolist()\n",
    "ratio_male = []\n",
    "ratio_male_err = []\n",
    "for tmp_age in age_2015:\n",
    "    tmp_num_2015 = df_2015['num_males'][df_2015['age'] == tmp_age].iloc[0]\n",
    "    tmp_num_2016 = df_2016['num_males'][df_2016['age'] == tmp_age].iloc[0]\n",
    "    tmp_ratio = tmp_num_2016/tmp_num_2015\n",
    "    ratio_male.append(tmp_ratio)\n",
    "    # Assume Poisson error and propagate\n",
    "    tmp_err_1 = np.sqrt(tmp_num_2015)\n",
    "    tmp_err_2 = np.sqrt(tmp_num_2016)\n",
    "    tmp_ratio_err = np.sqrt((tmp_err_1/tmp_num_2015)**2 + (tmp_err_2/tmp_num_2016)**2)\n",
    "    ratio_male_err.append(tmp_ratio_err*tmp_ratio)\n",
    "ratio_female = []\n",
    "ratio_female_err = []\n",
    "for tmp_age in age_2015:\n",
    "    tmp_num_2015 = df_2015['num_females'][df_2015['age'] == tmp_age].iloc[0]\n",
    "    tmp_num_2016 = df_2016['num_females'][df_2016['age'] == tmp_age].iloc[0]\n",
    "    tmp_ratio = tmp_num_2016/tmp_num_2015\n",
    "    ratio_female.append(tmp_ratio)\n",
    "    # Assume Poisson error and propagate\n",
    "    tmp_err_1 = np.sqrt(tmp_num_2015)\n",
    "    tmp_err_2 = np.sqrt(tmp_num_2016)\n",
    "    tmp_ratio_err = np.sqrt((tmp_err_1/tmp_num_2015)**2 + (tmp_err_2/tmp_num_2016)**2)\n",
    "    ratio_female_err.append(tmp_ratio_err*tmp_ratio)\n",
    "ratio_diff = [x-y for x,y in zip(ratio_female,ratio_male)]"
   ]
  },
  {
   "cell_type": "code",
   "execution_count": null,
   "metadata": {
    "collapsed": false
   },
   "outputs": [],
   "source": [
    "# Same as above but in a different style/color\n",
    "fig, ax = plt.subplots(1,2,figsize=(20, 10))\n",
    "# Male\n",
    "age = age_2015\n",
    "# the width of the bars\n",
    "width = 0.8       \n",
    "ax[0].fill_between(age, 0, ratio_male, step='mid', color='b', alpha=0.2)\n",
    "rects1 = ax[0].step(age, ratio_male, where='mid', color='b', lw=3)\n",
    "#\n",
    "ax[0].set_title('Male', fontsize=24)\n",
    "ax[0].set_xlabel('Age', fontsize=18)\n",
    "ax[0].set_ylabel('Growth 2015 $\\\\rightarrow$ 2016', fontsize=18, labelpad=20)\n",
    "green_patch = mpatches.Patch(label='2015', alpha=0.4, edgecolor='g', facecolor='g', lw=3)\n",
    "blue_patch = mpatches.Patch(label='2016', alpha=0.4, edgecolor='b', facecolor='b', lw=3)\n",
    "ax[0].legend(handles=[green_patch,blue_patch], prop={'size': 20})\n",
    "# Hide the right and top spines\n",
    "ax[0].spines['right'].set_visible(False)\n",
    "ax[0].spines['top'].set_visible(False)\n",
    "# Set witdh of axes spines and ticks\n",
    "ax[0].spines['left'].set_linewidth(2)\n",
    "ax[0].spines['bottom'].set_linewidth(2)\n",
    "ax[0].xaxis.set_tick_params(width=2)\n",
    "ax[0].yaxis.set_tick_params(width=2)\n",
    "# Only show ticks on the left and bottom spines\n",
    "ax[0].yaxis.set_ticks_position('left')\n",
    "ax[0].xaxis.set_ticks_position('bottom')\n",
    "ax[0].tick_params(labelsize=18)\n",
    "ax[0].set_xlim(10,80)\n",
    "#\n",
    "# Female\n",
    "# the width of the bars\n",
    "width = 0.8       \n",
    "ax[1].fill_between(age, 0, ratio_female, step='mid', color='g', alpha=0.2)\n",
    "rects1 = ax[1].step(age, ratio_female, where='mid', color='g', lw=3)\n",
    "#\n",
    "ax[1].set_title('Female', fontsize=24)\n",
    "ax[1].set_xlabel('Age', fontsize=18)\n",
    "ax[1].set_ylabel('Growth 2015 $\\\\rightarrow$ 2016', fontsize=18, labelpad=20)\n",
    "green_patch = mpatches.Patch(label='2015', alpha=0.4, edgecolor='g', facecolor='g', lw=3)\n",
    "blue_patch = mpatches.Patch(label='2016', alpha=0.4, edgecolor='b', facecolor='b', lw=3)\n",
    "ax[1].legend(handles=[green_patch,blue_patch], prop={'size': 20})\n",
    "\n",
    "# Hide the right and top spines\n",
    "ax[1].spines['right'].set_visible(False)\n",
    "ax[1].spines['top'].set_visible(False)\n",
    "# Set witdh of axes spines and ticks\n",
    "ax[1].spines['left'].set_linewidth(2)\n",
    "ax[1].spines['bottom'].set_linewidth(2)\n",
    "ax[1].xaxis.set_tick_params(width=2)\n",
    "ax[1].yaxis.set_tick_params(width=2)\n",
    "# Only show ticks on the left and bottom spines\n",
    "ax[1].yaxis.set_ticks_position('left')\n",
    "ax[1].xaxis.set_ticks_position('bottom')\n",
    "ax[1].tick_params(labelsize=18)\n",
    "ax[1].set_xlim(10,80)"
   ]
  },
  {
   "cell_type": "code",
   "execution_count": null,
   "metadata": {
    "collapsed": false
   },
   "outputs": [],
   "source": [
    "# Same as above but in a different style/color\n",
    "fig, ax = plt.subplots(figsize=(10, 10))\n",
    "# Data\n",
    "#\n",
    "skip_begin = 4\n",
    "skip_end = 1\n",
    "tmp_x = age_2015[skip_begin:-skip_end]\n",
    "tmp_y_male = ratio_male[skip_begin:-skip_end]\n",
    "tmp_y_male_err = ratio_male_err[skip_begin:-skip_end]\n",
    "tmp_y_female = ratio_female[skip_begin:-skip_end]\n",
    "tmp_y_female_err = ratio_female_err[skip_begin:-skip_end]\n",
    "# the width of the bars\n",
    "width = 0.8       \n",
    "ax.fill_between(tmp_x, 0, tmp_y_male, step='mid', color='b', alpha=0.2)\n",
    "rects1 = ax.step(tmp_x, tmp_y_male, where='mid', color='b', lw=3)\n",
    "ax.fill_between(tmp_x, 0, tmp_y_female, step='mid', color='g', alpha=0.2)\n",
    "rects1 = ax.step(tmp_x, tmp_y_female, where='mid', color='g', lw=3)\n",
    "\n",
    "#\n",
    "ax.set_title('Male', fontsize=24)\n",
    "ax.set_xlabel('Age', fontsize=18)\n",
    "ax.set_ylabel('Growth 2015 $\\\\rightarrow$ 2016', fontsize=18, labelpad=20)\n",
    "green_patch = mpatches.Patch(label='2015', alpha=0.4, edgecolor='g', facecolor='g', lw=3)\n",
    "blue_patch = mpatches.Patch(label='2016', alpha=0.4, edgecolor='b', facecolor='b', lw=3)\n",
    "ax.legend(handles=[green_patch,blue_patch], prop={'size': 20})\n",
    "# Hide the right and top spines\n",
    "ax.spines['right'].set_visible(False)\n",
    "ax.spines['top'].set_visible(False)\n",
    "# Set witdh of axes spines and ticks\n",
    "ax.spines['left'].set_linewidth(2)\n",
    "ax.spines['bottom'].set_linewidth(2)\n",
    "ax.xaxis.set_tick_params(width=2)\n",
    "ax.yaxis.set_tick_params(width=2)\n",
    "# Only show ticks on the left and bottom spines\n",
    "ax.yaxis.set_ticks_position('left')\n",
    "ax.xaxis.set_ticks_position('bottom')\n",
    "ax.tick_params(labelsize=18)\n",
    "# ax.set_xlim(10,80)\n",
    "ax.set_ylim(1,2)\n",
    "\n"
   ]
  },
  {
   "cell_type": "code",
   "execution_count": null,
   "metadata": {
    "collapsed": false
   },
   "outputs": [],
   "source": [
    "fig, ax = plt.subplots(figsize=(15, 10))\n",
    "#\n",
    "skip_begin = 4\n",
    "skip_end = 1\n",
    "tmp_x = age_2015[skip_begin:-skip_end]\n",
    "tmp_y_male = ratio_male[skip_begin:-skip_end]\n",
    "tmp_y_male_err = ratio_male_err[skip_begin:-skip_end]\n",
    "tmp_y_female = ratio_female[skip_begin:-skip_end]\n",
    "tmp_y_female_err = ratio_female_err[skip_begin:-skip_end]\n",
    "#\n",
    "plt.plot(tmp_x,tmp_y_male, color='green', label='Male', lw=1)\n",
    "plt.plot(tmp_x,tmp_y_female, color='blue', label='Female', lw=1)\n",
    "# plt.title('Growth in subscribers per cohort\\n(2015 to 2016)', fontsize=24)\n",
    "plt.xlabel('Age', fontsize=18)\n",
    "plt.ylabel('Growth factor 2015 $\\\\rightarrow$ 2016', fontsize=18, labelpad=20)\n",
    "# Make legend lines thicker\n",
    "blue_line = mlines.Line2D([], [], color='blue', \n",
    "                          lw=3, label='Female')\n",
    "green_line = mlines.Line2D([], [], color='green', \n",
    "                          lw=3, label='Male')\n",
    "\n",
    "plt.legend(prop={'size': 20},handles=[blue_line,green_line])\n",
    "# Show error margins\n",
    "tmp_lower = [x-y for x,y in zip(tmp_y_male,tmp_y_male_err)]\n",
    "tmp_upper = [x+y for x,y in zip(tmp_y_male,tmp_y_male_err)]\n",
    "ax.fill_between(tmp_x, tmp_upper, tmp_lower, facecolor='green', alpha=.5,)\n",
    "# Show error margins\n",
    "tmp_lower = [x-y for x,y in zip(tmp_y_female,tmp_y_female_err)]\n",
    "tmp_upper = [x+y for x,y in zip(tmp_y_female,tmp_y_female_err)]\n",
    "ax.fill_between(tmp_x, tmp_upper, tmp_lower, facecolor='blue', alpha=.5,)\n",
    "#\n",
    "ax.set_ylim(1.0,2.0)\n",
    "# ax.set_xlim(20,40)\n",
    "# Hide the right and top spines\n",
    "ax.spines['right'].set_visible(False)\n",
    "ax.spines['top'].set_visible(False)\n",
    "# Set witdh of axes spines and ticks\n",
    "ax.spines['left'].set_linewidth(2)\n",
    "ax.spines['bottom'].set_linewidth(2)\n",
    "ax.xaxis.set_tick_params(width=2)\n",
    "ax.yaxis.set_tick_params(width=2)\n",
    "# Only show ticks on the left and bottom spines\n",
    "ax.yaxis.set_ticks_position('left')\n",
    "ax.xaxis.set_ticks_position('bottom')\n",
    "ax.tick_params(labelsize=18)\n",
    "# \n",
    "# ax.text(0.15, 0.65, 'From 2015 to 2016, female annual customers (age 35-55) grew\\nstronger than male annual customers of the same age group.\\n(+500 customers)', style='italic',\n",
    "#         horizontalalignment='left', bbox={'facecolor':'lightblue', 'alpha':0.5, 'pad':10},\n",
    "#         transform=ax.transAxes,fontsize=20)\n",
    "#\n",
    "plt.savefig(os.path.join(data_dir,'plots','growth_subscriber_demographics_2015_2016.pdf'), bbox_inches='tight')\n",
    "#\n",
    "\n",
    "\n"
   ]
  },
  {
   "cell_type": "code",
   "execution_count": null,
   "metadata": {
    "collapsed": true
   },
   "outputs": [],
   "source": []
  },
  {
   "cell_type": "code",
   "execution_count": null,
   "metadata": {
    "collapsed": true
   },
   "outputs": [],
   "source": []
  },
  {
   "cell_type": "markdown",
   "metadata": {},
   "source": [
    "## Determine gain in number of female subscribers (and revenue) in specific age bracket"
   ]
  },
  {
   "cell_type": "code",
   "execution_count": null,
   "metadata": {
    "collapsed": false
   },
   "outputs": [],
   "source": [
    "# age bracket 20-35\n",
    "age1 = 20\n",
    "age2 = 35\n",
    "tmp_median_ratio = []\n",
    "for idx,age in enumerate(age_2016):\n",
    "    if age >= age1 and age < age2:\n",
    "        tmp_median_ratio.append(ratio_2016[idx])\n",
    "median_ratio = np.median(tmp_median_ratio)\n",
    "print('Median ratio (2016, 20-35):', median_ratio)\n",
    "\n",
    "# age bracket 35-55\n",
    "age1 = 35\n",
    "age2 = 55\n",
    "tmp_median_ratio = []\n",
    "for idx,age in enumerate(age_2016):\n",
    "    if age >= age1 and age <= age2:\n",
    "        tmp_median_ratio.append(ratio_2016[idx])\n",
    "median_ratio = np.median(tmp_median_ratio)\n",
    "print('Median ratio (2016, 35-55):', median_ratio)\n",
    "        \n"
   ]
  },
  {
   "cell_type": "markdown",
   "metadata": {},
   "source": [
    "In 2016, the average subscriber took a total of 112 rides a year (see citibike_02.ipynb for the calculation)."
   ]
  },
  {
   "cell_type": "code",
   "execution_count": null,
   "metadata": {
    "collapsed": false
   },
   "outputs": [],
   "source": [
    "# Calculate the amount of extra female subscribers we need to lower the 35-55 median ratio to 3.0 or 2.5\n",
    "age1 = 35\n",
    "age2 = 55\n",
    "n_males_in_age_bracket = df_2016['num_males'][(df_2016['age'] >= age1) & (df_2016['age'] <= age2)].sum()\n",
    "n_females_in_age_bracket = df_2016['num_females'][(df_2016['age'] >= age1) & (df_2016['age'] <= age2)].sum()\n",
    "target_ratios = [2.5,3.0]\n",
    "for target_ratio in target_ratios:\n",
    "    factor = n_males_in_age_bracket/(target_ratio*n_females_in_age_bracket)\n",
    "    total_female_after = int(factor*n_females_in_age_bracket)\n",
    "    new_female_rides = int(factor*n_females_in_age_bracket)- n_females_in_age_bracket\n",
    "    new_female_cust = int(new_female_rides / 112.)\n",
    "    new_revenue = new_female_cust * 163\n",
    "    print('To reach a male/female rides ratio of {} in the age group from {} to {} years,'.format(target_ratio,age1,age2))\n",
    "    print('Citibike needs to acquire {} new female annual customers in that age group'.format(new_female_cust))\n",
    "    print('for a total increase in revenue of {} USD.'.format(new_revenue))\n",
    "    print('-----------------')\n"
   ]
  },
  {
   "cell_type": "code",
   "execution_count": null,
   "metadata": {
    "collapsed": false
   },
   "outputs": [],
   "source": [
    "df_2015_add = df_2015.copy()\n",
    "df_2016_add = df_2016.copy()\n",
    "n_add = [2181,4669]\n",
    "for i in range(n_add[1]):\n",
    "    tmp_age = np.random.randint(age1, age2+1)\n",
    "    tmp_idx = df_2016_add[df_2016_add['age'] == tmp_age].index[0]\n",
    "    curr_val = df_2016_add['num_females'][df_2016_add['age'] == tmp_age].iloc[0]\n",
    "    new_val = curr_val + 112 # 112 rides per customer \n",
    "    df_2016_add.set_value(tmp_idx,'num_females',new_val)\n",
    "\n",
    "\n",
    "    \n",
    "age_2015 = df_2015['age'][df_2015['age'] < 70]\n",
    "ratio_2015 = (df_2015['num_males'][df_2015['age'] < 70] / df_2015['num_females'][df_2015['age'] < 70]).tolist()\n",
    "#\n",
    "age_2016 = df_2016_add['age'][df_2016_add['age'] < 70]\n",
    "ratio_2016_add = (df_2016_add['num_males'][df_2016_add['age'] < 70] / df_2016_add['num_females'][df_2016_add['age'] < 70]).tolist()\n"
   ]
  },
  {
   "cell_type": "code",
   "execution_count": null,
   "metadata": {
    "collapsed": false
   },
   "outputs": [],
   "source": [
    "df_2016[(df_2016['age'] >= 35) & (df_2016['age'] <= 55)]"
   ]
  },
  {
   "cell_type": "code",
   "execution_count": null,
   "metadata": {
    "collapsed": false
   },
   "outputs": [],
   "source": [
    "df_2016_add[(df_2016_add['age'] >= 35) & (df_2016_add['age'] <= 55)]"
   ]
  },
  {
   "cell_type": "code",
   "execution_count": null,
   "metadata": {
    "collapsed": false
   },
   "outputs": [],
   "source": [
    "fig, ax = plt.subplots(figsize=(15, 10))\n",
    "plt.plot(age_2015,ratio_2015, color='green', label='2015', lw=3)\n",
    "plt.plot(age_2016,ratio_2016, color='blue', label='2016', lw=2, linestyle='--')\n",
    "plt.plot(age_2016,ratio_2016_add, color='blue', label='2016', lw=3)\n",
    "plt.title('Ratio of rides taken by male over female subscribers', fontsize=18)\n",
    "plt.ylabel('Ratio (Male over Female)', fontsize=18)\n",
    "plt.xlabel('Age', fontsize=18)\n",
    "plt.legend(prop={'size': 20})\n",
    "#\n",
    "plt.plot([age_2015.iloc[0],age_2015.iloc[-1]],[np.median(ratio_2015),np.median(ratio_2015)],'g--', lw=3)\n",
    "plt.plot([age_2016.iloc[0],age_2016.iloc[-1]],[np.median(ratio_2016),np.median(ratio_2016)],'b--', lw=3)\n",
    "# # Show error margins\n",
    "# tmp_lower = [x-y for x,y in zip(ratio_2015,ratio_2015_err)]\n",
    "# tmp_upper = [x+y for x,y in zip(ratio_2015,ratio_2015_err)]\n",
    "# ax.fill_between(age_2015, tmp_upper, tmp_lower, facecolor='green', alpha=.5,)\n",
    "# # Show error margins\n",
    "# tmp_lower = [x-y for x,y in zip(ratio_2016,ratio_2016_err)]\n",
    "# tmp_upper = [x+y for x,y in zip(ratio_2016,ratio_2016_err)]\n",
    "# ax.fill_between(age_2016, tmp_upper, tmp_lower, facecolor='blue', alpha=.5,)\n",
    "# Hide the right and top spines\n",
    "ax.spines['right'].set_visible(False)\n",
    "ax.spines['top'].set_visible(False)\n",
    "# Set witdh of axes spines and ticks\n",
    "ax.spines['left'].set_linewidth(2)\n",
    "ax.spines['bottom'].set_linewidth(2)\n",
    "ax.xaxis.set_tick_params(width=2)\n",
    "ax.yaxis.set_tick_params(width=2)\n",
    "# Only show ticks on the left and bottom spines\n",
    "ax.yaxis.set_ticks_position('left')\n",
    "ax.xaxis.set_ticks_position('bottom')\n",
    "ax.tick_params(labelsize=18)\n",
    "#\n",
    "ax.text(0.15, 0.85, '+ 4,500 annual customers (female, age 35-55)\\n+ 750,000 USD revenue', style='italic',\n",
    "        horizontalalignment='left', bbox={'facecolor':'lightblue', 'alpha':0.5, 'pad':10},\n",
    "        transform=ax.transAxes,fontsize=20)\n",
    "#\n",
    "plt.savefig(os.path.join(data_dir,'plots','ride_ratio_subscriber_demographics_2015_2016_growth_02.pdf'), bbox_inches='tight')\n",
    "#\n",
    "\n",
    "\n"
   ]
  },
  {
   "cell_type": "code",
   "execution_count": null,
   "metadata": {
    "collapsed": true
   },
   "outputs": [],
   "source": []
  },
  {
   "cell_type": "code",
   "execution_count": null,
   "metadata": {
    "collapsed": true
   },
   "outputs": [],
   "source": []
  },
  {
   "cell_type": "code",
   "execution_count": null,
   "metadata": {
    "collapsed": true
   },
   "outputs": [],
   "source": []
  },
  {
   "cell_type": "code",
   "execution_count": null,
   "metadata": {
    "collapsed": true
   },
   "outputs": [],
   "source": []
  },
  {
   "cell_type": "code",
   "execution_count": null,
   "metadata": {
    "collapsed": true
   },
   "outputs": [],
   "source": []
  }
 ],
 "metadata": {
  "kernelspec": {
   "display_name": "Python 2",
   "language": "python",
   "name": "python2"
  },
  "language_info": {
   "codemirror_mode": {
    "name": "ipython",
    "version": 2
   },
   "file_extension": ".py",
   "mimetype": "text/x-python",
   "name": "python",
   "nbconvert_exporter": "python",
   "pygments_lexer": "ipython2",
   "version": "2.7.13"
  }
 },
 "nbformat": 4,
 "nbformat_minor": 0
}
